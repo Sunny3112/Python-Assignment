{
 "cells": [
  {
   "cell_type": "markdown",
   "id": "1bb00abd",
   "metadata": {},
   "source": [
    "# Q1. How do you distinguish between shutil.copy() and shutil.copytree()?\n",
    "# Ans :- \n",
    "\n",
    "    The shutil.copy() function will copy a single file, while shutil.copytree() will copy an entire folder, along with all its contents.\n"
   ]
  },
  {
   "cell_type": "markdown",
   "id": "1fe27d1c",
   "metadata": {},
   "source": [
    "# Q2. What function is used to rename files??\n",
    "# Ans :- \n",
    "\n",
    "    The shutil.move() function is used for renaming files, as well as moving them."
   ]
  },
  {
   "cell_type": "markdown",
   "id": "28263af7",
   "metadata": {},
   "source": [
    "# Q3. What is the difference between the delete functions in the send2trash and shutil modules?\n",
    "# Ans :-\n",
    "\n",
    "    The send2trash functions will move a file or folder to the recycle bin,while shutil functions will permanent delete files and folders."
   ]
  },
  {
   "cell_type": "markdown",
   "id": "2b05e4b3",
   "metadata": {},
   "source": [
    "# Q4. ZipFile objects have a close() method just like File objects’ close() method. What ZipFile method is equivalent to File objects’ open() method?\n",
    "# Ans :- \n",
    "\n",
    "    The zipfile.ZipFile() function is equivalent to the open() function; the first argument is the filename, and the second argument is the mode to open the ZIP file in (read, write, or append)."
   ]
  },
  {
   "cell_type": "markdown",
   "id": "a591df91",
   "metadata": {},
   "source": [
    "# Q5. Create a programme that searches a folder tree for files with a certain file extension (such as .pdf or .jpg). Copy these files from whatever location they are in to a new folder.\n",
    "# Ans :-\n"
   ]
  },
  {
   "cell_type": "code",
   "execution_count": 13,
   "id": "4be6468a",
   "metadata": {},
   "outputs": [
    {
     "ename": "SyntaxError",
     "evalue": "EOL while scanning string literal (597064596.py, line 4)",
     "output_type": "error",
     "traceback": [
      "\u001b[0;36m  File \u001b[0;32m\"/var/folders/xn/h2374fms1gv8xwtps_vftzwh0000gn/T/ipykernel_5987/597064596.py\"\u001b[0;36m, line \u001b[0;32m4\u001b[0m\n\u001b[0;31m    destPath = input('Enter the absolute path of the destination folder: ‘)\u001b[0m\n\u001b[0m                                                                           ^\u001b[0m\n\u001b[0;31mSyntaxError\u001b[0m\u001b[0;31m:\u001b[0m EOL while scanning string literal\n"
     ]
    }
   ],
   "source": [
    "import os. shutil\n",
    "sourcePath = input('Enter the absolute path of the source folder: ')\n",
    "fileExtType = input('Enter the type of file to copy (such as .pdf or .jpg): ').lower()\n",
    "destPath = input('Enter the absolute path of the destination folder: ‘)\n",
    "for foldername, subfolders, filenames in os.walk(sourcePath):\n",
    "    for filename in filenames:\n",
    "         if filename.lower().endswith(fileExtType):\n",
    "#print(foldername + ‘\\\\’ + filename)\n",
    "copySourcePath = os.path.join(foldername, filename)\n",
    "#print(copySourcePath) shutil.copy(copySourcePath, destPath)\n",
    "     else:\n",
    "         continue"
   ]
  },
  {
   "cell_type": "markdown",
   "id": "7d0f48a8",
   "metadata": {},
   "source": [
    "# NOT ABLE TO SOLVE THE ABOVE PROGRAM"
   ]
  }
 ],
 "metadata": {
  "kernelspec": {
   "display_name": "Python 3 (ipykernel)",
   "language": "python",
   "name": "python3"
  },
  "language_info": {
   "codemirror_mode": {
    "name": "ipython",
    "version": 3
   },
   "file_extension": ".py",
   "mimetype": "text/x-python",
   "name": "python",
   "nbconvert_exporter": "python",
   "pygments_lexer": "ipython3",
   "version": "3.9.7"
  },
  "varInspector": {
   "cols": {
    "lenName": 16,
    "lenType": 16,
    "lenVar": 40
   },
   "kernels_config": {
    "python": {
     "delete_cmd_postfix": "",
     "delete_cmd_prefix": "del ",
     "library": "var_list.py",
     "varRefreshCmd": "print(var_dic_list())"
    },
    "r": {
     "delete_cmd_postfix": ") ",
     "delete_cmd_prefix": "rm(",
     "library": "var_list.r",
     "varRefreshCmd": "cat(var_dic_list()) "
    }
   },
   "types_to_exclude": [
    "module",
    "function",
    "builtin_function_or_method",
    "instance",
    "_Feature"
   ],
   "window_display": false
  }
 },
 "nbformat": 4,
 "nbformat_minor": 5
}
