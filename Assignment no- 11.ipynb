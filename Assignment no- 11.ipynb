{
 "cells": [
  {
   "attachments": {},
   "cell_type": "markdown",
   "id": "bcb9f918",
   "metadata": {},
   "source": [
    "# Q1. Write an assert statement that triggers an AssertionError if the variable spam is an integer less than 10.\n",
    "# Ans :- "
   ]
  },
  {
   "cell_type": "code",
   "execution_count": 5,
   "id": "e7e4d1ba",
   "metadata": {},
   "outputs": [
    {
     "name": "stderr",
     "output_type": "stream",
     "text": [
      "<>:1: SyntaxWarning: assertion is always true, perhaps remove parentheses?\n",
      "<>:1: SyntaxWarning: assertion is always true, perhaps remove parentheses?\n",
      "/var/folders/xn/h2374fms1gv8xwtps_vftzwh0000gn/T/ipykernel_27377/2281559969.py:1: SyntaxWarning: assertion is always true, perhaps remove parentheses?\n",
      "  assert(spam >= 10, 'The spam variable is less than 10.')\n"
     ]
    },
    {
     "ename": "NameError",
     "evalue": "name 'spam' is not defined",
     "output_type": "error",
     "traceback": [
      "\u001b[0;31m---------------------------------------------------------------------------\u001b[0m",
      "\u001b[0;31mNameError\u001b[0m                                 Traceback (most recent call last)",
      "\u001b[0;32m/var/folders/xn/h2374fms1gv8xwtps_vftzwh0000gn/T/ipykernel_27377/2281559969.py\u001b[0m in \u001b[0;36m<module>\u001b[0;34m\u001b[0m\n\u001b[0;32m----> 1\u001b[0;31m \u001b[0;32massert\u001b[0m\u001b[0;34m(\u001b[0m\u001b[0mspam\u001b[0m \u001b[0;34m>=\u001b[0m \u001b[0;36m10\u001b[0m\u001b[0;34m,\u001b[0m \u001b[0;34m'The spam variable is less than 10.'\u001b[0m\u001b[0;34m)\u001b[0m\u001b[0;34m\u001b[0m\u001b[0;34m\u001b[0m\u001b[0m\n\u001b[0m",
      "\u001b[0;31mNameError\u001b[0m: name 'spam' is not defined"
     ]
    }
   ],
   "source": [
    "assert(spam >= 10, 'The spam variable is less than 10.')  "
   ]
  },
  {
   "attachments": {},
   "cell_type": "markdown",
   "id": "edf2825a",
   "metadata": {},
   "source": [
    "# Q2. Write an assert statement that triggers an AssertionError if the variables eggs and bacon contain strings that are the same as each other, even if their cases are different (that is, 'hello' and 'hello' are considered the same, and 'goodbye' and 'GOODbye' are also considered the same).\n",
    "# Ans :-"
   ]
  },
  {
   "cell_type": "code",
   "execution_count": 7,
   "id": "2faee422",
   "metadata": {},
   "outputs": [
    {
     "ename": "SyntaxError",
     "evalue": "invalid syntax (1314265975.py, line 1)",
     "output_type": "error",
     "traceback": [
      "\u001b[0;36m  File \u001b[0;32m\"/var/folders/xn/h2374fms1gv8xwtps_vftzwh0000gn/T/ipykernel_27377/1314265975.py\"\u001b[0;36m, line \u001b[0;32m1\u001b[0m\n\u001b[0;31m    assert(eggs.lower() != bacon.lower(), 'The eggs and bacon variables are the same!') or assert(eggs.upper() != bacon.upper(), 'The eggs and bacon variables are the same!')\u001b[0m\n\u001b[0m                                                                                           ^\u001b[0m\n\u001b[0;31mSyntaxError\u001b[0m\u001b[0;31m:\u001b[0m invalid syntax\n"
     ]
    }
   ],
   "source": [
    "assert(eggs.lower() != bacon.lower(), 'The eggs and bacon variables are the same!') or assert(eggs.upper() != bacon.upper(), 'The eggs and bacon variables are the same!')  "
   ]
  },
  {
   "cell_type": "markdown",
   "id": "505af95a",
   "metadata": {},
   "source": [
    "# Q3. Create an assert statement that throws an AssertionError every time.\n",
    "# Ans :-"
   ]
  },
  {
   "cell_type": "code",
   "execution_count": 9,
   "id": "68eb536b",
   "metadata": {},
   "outputs": [],
   "source": [
    "assert(False, 'This assertion always triggers.')  "
   ]
  },
  {
   "cell_type": "markdown",
   "id": "308895e2",
   "metadata": {},
   "source": [
    "# Q4. What are the two lines that must be present in your software in order to call logging.debug()?\n",
    "# Ans :-"
   ]
  },
  {
   "cell_type": "code",
   "execution_count": 15,
   "id": "6cbc7eb2",
   "metadata": {},
   "outputs": [],
   "source": [
    "#To be able to call logging.debug(), you must have these two lines at the start of your program: \n",
    "import logging \n",
    "logging.basicConfig(level=logging.DEBUG, format=' %(asctime)s -  %(levelname)s -  %(message)s')"
   ]
  },
  {
   "cell_type": "markdown",
   "id": "0f839300",
   "metadata": {},
   "source": [
    "# Q5. What are the two lines that your program must have in order to have logging.debug() send a logging message to a file named programLog.txt?\n",
    "# Ans :- "
   ]
  },
  {
   "cell_type": "code",
   "execution_count": 16,
   "id": "640bd51f",
   "metadata": {},
   "outputs": [],
   "source": [
    "import logging \n",
    "logging.basicConfig(filename='programLog.txt', level=logging.DEBUG, format=' %(asctime)s -  %(levelname)s -  %(message)s') "
   ]
  },
  {
   "cell_type": "markdown",
   "id": "61bd7efe",
   "metadata": {},
   "source": [
    "# Q6. What are the five levels of logging?\n",
    "# Ans :- "
   ]
  },
  {
   "cell_type": "markdown",
   "id": "2ada7d89",
   "metadata": {},
   "source": [
    "DEBUG, INFO, WARNING, ERROR, and CRITICAL  "
   ]
  },
  {
   "cell_type": "markdown",
   "id": "7d906182",
   "metadata": {},
   "source": [
    "# Q7. What line of code would you add to your software to disable all logging messages?\n",
    "# Ans :-"
   ]
  },
  {
   "cell_type": "code",
   "execution_count": 18,
   "id": "d7b64c08",
   "metadata": {},
   "outputs": [],
   "source": [
    "logging.disable(logging.CRITICAL) "
   ]
  },
  {
   "cell_type": "markdown",
   "id": "e6573a41",
   "metadata": {},
   "source": [
    "# Q8. Why is using logging messages better than using print() to display the same message?\n",
    "# Ans :- "
   ]
  },
  {
   "cell_type": "markdown",
   "id": "ebec7da4",
   "metadata": {},
   "source": [
    "You can disable logging messages without removing the logging function calls. \n",
    "You can selectively disable lower-level logging messages. \n",
    "You can create logging messages. Logging messages provides a timestamp.  "
   ]
  },
  {
   "cell_type": "markdown",
   "id": "1e0fb34d",
   "metadata": {},
   "source": [
    "# Q9. What are the differences between the Step Over, Step In, and Step Out buttons in the debugger?\n",
    "# Ans :- "
   ]
  },
  {
   "cell_type": "markdown",
   "id": "4803a314",
   "metadata": {},
   "source": [
    "The Step button will move the debugger into a function call. \n",
    "The Over button will quickly execute the function call without stepping into it. \n",
    "The Out button will quickly execute the rest of the code until it steps out of the function it currently is in."
   ]
  },
  {
   "cell_type": "markdown",
   "id": "ac5517cc",
   "metadata": {},
   "source": [
    "# Q10. After you click Go, when will the debugger stop ?\n",
    "# Ans :- "
   ]
  },
  {
   "cell_type": "markdown",
   "id": "b4063dd5",
   "metadata": {},
   "source": [
    "click Go, the debugger will stop when it has reached the end of the program or a line with a breakpoint."
   ]
  },
  {
   "cell_type": "markdown",
   "id": "7f8298aa",
   "metadata": {},
   "source": [
    "# Q11. What is the concept of a breakpoint?\n",
    "# Ans :-"
   ]
  },
  {
   "cell_type": "markdown",
   "id": "fcb1a58a",
   "metadata": {},
   "source": [
    "breakpoint is a setting on a line of code that causes the debugger to pause when the program execution reaches the line"
   ]
  },
  {
   "cell_type": "code",
   "execution_count": null,
   "id": "0ce921b0",
   "metadata": {},
   "outputs": [],
   "source": []
  }
 ],
 "metadata": {
  "kernelspec": {
   "display_name": "Python 3 (ipykernel)",
   "language": "python",
   "name": "python3"
  },
  "language_info": {
   "codemirror_mode": {
    "name": "ipython",
    "version": 3
   },
   "file_extension": ".py",
   "mimetype": "text/x-python",
   "name": "python",
   "nbconvert_exporter": "python",
   "pygments_lexer": "ipython3",
   "version": "3.9.7"
  },
  "varInspector": {
   "cols": {
    "lenName": 16,
    "lenType": 16,
    "lenVar": 40
   },
   "kernels_config": {
    "python": {
     "delete_cmd_postfix": "",
     "delete_cmd_prefix": "del ",
     "library": "var_list.py",
     "varRefreshCmd": "print(var_dic_list())"
    },
    "r": {
     "delete_cmd_postfix": ") ",
     "delete_cmd_prefix": "rm(",
     "library": "var_list.r",
     "varRefreshCmd": "cat(var_dic_list()) "
    }
   },
   "types_to_exclude": [
    "module",
    "function",
    "builtin_function_or_method",
    "instance",
    "_Feature"
   ],
   "window_display": false
  }
 },
 "nbformat": 4,
 "nbformat_minor": 5
}
