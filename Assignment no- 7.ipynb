{
 "cells": [
  {
   "cell_type": "markdown",
   "id": "b92b3433",
   "metadata": {},
   "source": [
    "# Q1. What is the name of the feature responsible for generating Regex objects?\n",
    "\n",
    "# Ans :-\n",
    "\n",
    "    The re.compile() is the feature which is responsible for generating the regex objects."
   ]
  },
  {
   "cell_type": "markdown",
   "id": "c4378966",
   "metadata": {},
   "source": [
    "# Q2. Why do raw strings often appear in Regex objects?\n",
    "\n",
    "# Ans :-\n",
    "\n",
    "    raw strings keeps the regular expressions meaningful and confusion free, raw string are used so that        backslashes do not have to be escaped."
   ]
  },
  {
   "cell_type": "markdown",
   "id": "0fc861e1",
   "metadata": {},
   "source": [
    "# Q3. What is the return value of the search() method?\n",
    "\n",
    "# Ans :-"
   ]
  },
  {
   "cell_type": "markdown",
   "id": "e91b4e92",
   "metadata": {},
   "source": [
    "    search() is an inbuilt regex function that searches the string for a match and returns a match object if    there is a match."
   ]
  },
  {
   "cell_type": "code",
   "execution_count": 4,
   "id": "6fa3f63d",
   "metadata": {},
   "outputs": [
    {
     "name": "stdout",
     "output_type": "stream",
     "text": [
      "The first white space character is located at position : 3\n"
     ]
    }
   ],
   "source": [
    "# for ex\n",
    "import re\n",
    "\n",
    "s = \"Ben Stone\"\n",
    "string = re.search(\"\\s\" , s)\n",
    "\n",
    "print(\"The first white space character is located at position :\" , string.start())"
   ]
  },
  {
   "cell_type": "markdown",
   "id": "7acec135",
   "metadata": {},
   "source": [
    "# Q4. From a Match item, how do you get the actual strings that match the pattern?\n",
    "\n",
    "# Ans :- \n",
    "\n",
    "    The group() method returns strings of the matched text."
   ]
  },
  {
   "cell_type": "markdown",
   "id": "5c2511ad",
   "metadata": {},
   "source": [
    "# Q5. In the regex which created from the r'(\\d\\d\\d)-(\\d\\d\\d-\\d\\d\\d\\d)', what does group zero cover? Group 2? Group 1?\n",
    "\n",
    "# Ans :-\n",
    "\n",
    "    Group 0 is the entire match, group 1 covers the first set of parentheses, and group 2 covers the second set of parentheses."
   ]
  },
  {
   "cell_type": "markdown",
   "id": "e9ec27ed",
   "metadata": {},
   "source": [
    "# Q6. In standard expression syntax, parentheses and intervals have distinct meanings. How can you tell a regex that you want it to fit real parentheses and periods?\n",
    "\n",
    "# Ans :- \n",
    "\n",
    "    Periods and parentheses can be escaped with a backslash: \\., \\(, and \\)."
   ]
  },
  {
   "cell_type": "markdown",
   "id": "290cb4fb",
   "metadata": {},
   "source": [
    "# Q7. The findall() method returns a string list or a list of string tuples. What causes it to return one of the two options?\n",
    "\n",
    "# Ans :-\n",
    "\n",
    "    If the regex has no groups, a list of strings is returned. If the regex has groups, a list of tuples of     strings is returned."
   ]
  },
  {
   "cell_type": "markdown",
   "id": "453c4376",
   "metadata": {},
   "source": [
    "# Q8. In standard expressions, what does the | character mean?\n",
    "\n",
    "# Ans :-\n",
    "    \n",
    "    It stands for matching either, or between two groups."
   ]
  },
  {
   "cell_type": "markdown",
   "id": "a5da481d",
   "metadata": {},
   "source": []
  },
  {
   "cell_type": "code",
   "execution_count": null,
   "id": "0422fc45",
   "metadata": {},
   "outputs": [],
   "source": []
  }
 ],
 "metadata": {
  "kernelspec": {
   "display_name": "Python 3 (ipykernel)",
   "language": "python",
   "name": "python3"
  },
  "language_info": {
   "codemirror_mode": {
    "name": "ipython",
    "version": 3
   },
   "file_extension": ".py",
   "mimetype": "text/x-python",
   "name": "python",
   "nbconvert_exporter": "python",
   "pygments_lexer": "ipython3",
   "version": "3.9.7"
  },
  "varInspector": {
   "cols": {
    "lenName": 16,
    "lenType": 16,
    "lenVar": 40
   },
   "kernels_config": {
    "python": {
     "delete_cmd_postfix": "",
     "delete_cmd_prefix": "del ",
     "library": "var_list.py",
     "varRefreshCmd": "print(var_dic_list())"
    },
    "r": {
     "delete_cmd_postfix": ") ",
     "delete_cmd_prefix": "rm(",
     "library": "var_list.r",
     "varRefreshCmd": "cat(var_dic_list()) "
    }
   },
   "types_to_exclude": [
    "module",
    "function",
    "builtin_function_or_method",
    "instance",
    "_Feature"
   ],
   "window_display": false
  }
 },
 "nbformat": 4,
 "nbformat_minor": 5
}
