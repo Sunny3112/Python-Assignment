{
 "cells": [
  {
   "cell_type": "markdown",
   "id": "14fe1061",
   "metadata": {},
   "source": [
    "# Q1. To what does a relative path refer?\n",
    "# Ans :- \n",
    "\n",
    "    Relative paths are relative to the current working directory."
   ]
  },
  {
   "cell_type": "markdown",
   "id": "dd4888cb",
   "metadata": {},
   "source": [
    "# Q2. What does an absolute path start with your operating system?\n",
    "# Ans :-\n",
    "    \n",
    "    Absolute paths start with the root folder, such as / or C:\\."
   ]
  },
  {
   "cell_type": "markdown",
   "id": "d7eb68b4",
   "metadata": {},
   "source": [
    "# Q3. What do the functions os.getcwd() and os.chdir() do?\n",
    "# Ans :- \n",
    "\n",
    "    The os.getcwd() function returns the current working directory. The os.chdir() function changes the current working directory."
   ]
  },
  {
   "cell_type": "markdown",
   "id": "951e028b",
   "metadata": {},
   "source": [
    "# Q4. What are the . and .. folders?\n",
    "# Ans :- \n",
    "\n",
    "    The . folder is the current folder, and .. is the parent folder."
   ]
  },
  {
   "cell_type": "markdown",
   "id": "2ad80369",
   "metadata": {},
   "source": [
    "# Q5. In C:\\bacon\\eggs\\spam.txt, which part is the dir name, and which part is the base name?\n",
    "# Ans :-\n",
    "\n",
    "    C:\\bacon\\eggs is the dir name, while spam.txt is the base name."
   ]
  },
  {
   "cell_type": "markdown",
   "id": "0329e14a",
   "metadata": {},
   "source": [
    "# Q6. What are the three “mode” arguments that can be passed to the open() function?\n",
    "# Ans :-\n",
    "\n",
    "    The string 'r' for read mode, 'w' for write mode, and 'a' for append mode."
   ]
  },
  {
   "cell_type": "markdown",
   "id": "0dd58832",
   "metadata": {},
   "source": [
    "# Q7. What happens if an existing file is opened in write mode?\n",
    "# Ans :- \n",
    "\n",
    "    An existing file opened in write mode is erased and completely overwritten."
   ]
  },
  {
   "cell_type": "markdown",
   "id": "b8aed4b3",
   "metadata": {},
   "source": [
    "# Q8. How do you tell the difference between read() and readlines()?\n",
    "# Ans :- \n",
    "\n",
    "    The read() method returns the file’s entire contents as a single string value. The readlines() method returns a list of strings, where each string is a line from the file’s contents.\n"
   ]
  }
 ],
 "metadata": {
  "kernelspec": {
   "display_name": "Python 3 (ipykernel)",
   "language": "python",
   "name": "python3"
  },
  "language_info": {
   "codemirror_mode": {
    "name": "ipython",
    "version": 3
   },
   "file_extension": ".py",
   "mimetype": "text/x-python",
   "name": "python",
   "nbconvert_exporter": "python",
   "pygments_lexer": "ipython3",
   "version": "3.9.7"
  },
  "varInspector": {
   "cols": {
    "lenName": 16,
    "lenType": 16,
    "lenVar": 40
   },
   "kernels_config": {
    "python": {
     "delete_cmd_postfix": "",
     "delete_cmd_prefix": "del ",
     "library": "var_list.py",
     "varRefreshCmd": "print(var_dic_list())"
    },
    "r": {
     "delete_cmd_postfix": ") ",
     "delete_cmd_prefix": "rm(",
     "library": "var_list.r",
     "varRefreshCmd": "cat(var_dic_list()) "
    }
   },
   "types_to_exclude": [
    "module",
    "function",
    "builtin_function_or_method",
    "instance",
    "_Feature"
   ],
   "window_display": false
  }
 },
 "nbformat": 4,
 "nbformat_minor": 5
}
