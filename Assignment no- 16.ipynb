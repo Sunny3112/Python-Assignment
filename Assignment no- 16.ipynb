{
 "cells": [
  {
   "cell_type": "markdown",
   "id": "9087dd5a",
   "metadata": {},
   "source": [
    "# Q1. Create a list called years_list, starting with the year of your birth, and each year thereafter until the year of your fifth birthday. For example, if you were born in 1980. the list would be years_list = [1980, 1981, 1982, 1983, 1984, 1985].\n",
    "# Ans :- "
   ]
  },
  {
   "cell_type": "code",
   "execution_count": 2,
   "id": "ccfd3f07",
   "metadata": {},
   "outputs": [
    {
     "data": {
      "text/plain": [
       "[1995, 1996, 1997, 1998, 1999, 2000]"
      ]
     },
     "execution_count": 2,
     "metadata": {},
     "output_type": "execute_result"
    }
   ],
   "source": [
    "years_list = [i for i in range(1995,1995+6)]\n",
    "years_list"
   ]
  },
  {
   "cell_type": "markdown",
   "id": "5e7fc43a",
   "metadata": {},
   "source": [
    "# Q2. In which year in years_list was your third birthday? Remember, you were 0 years of age for your first year.\n",
    "# Ans :- "
   ]
  },
  {
   "cell_type": "code",
   "execution_count": 5,
   "id": "ba6a0c61",
   "metadata": {},
   "outputs": [
    {
     "data": {
      "text/plain": [
       "1995"
      ]
     },
     "execution_count": 5,
     "metadata": {},
     "output_type": "execute_result"
    }
   ],
   "source": [
    "years_list[0]"
   ]
  },
  {
   "cell_type": "markdown",
   "id": "5ed05f05",
   "metadata": {},
   "source": [
    "# Q3. In the years list, which year were you the oldest?\n",
    "# Ans :- "
   ]
  },
  {
   "cell_type": "code",
   "execution_count": 6,
   "id": "b360e2c6",
   "metadata": {},
   "outputs": [
    {
     "data": {
      "text/plain": [
       "2000"
      ]
     },
     "execution_count": 6,
     "metadata": {},
     "output_type": "execute_result"
    }
   ],
   "source": [
    "max(years_list)"
   ]
  },
  {
   "cell_type": "markdown",
   "id": "87b70baa",
   "metadata": {},
   "source": [
    "# Q4. Make a list called things with these three strings as elements: \"mozzarella\", \"cinderella\", \"salmonella\".\n",
    "# Ans :- "
   ]
  },
  {
   "cell_type": "code",
   "execution_count": 7,
   "id": "faea24ce",
   "metadata": {},
   "outputs": [
    {
     "data": {
      "text/plain": [
       "['mozzarella', 'cinderella', 'salmonella']"
      ]
     },
     "execution_count": 7,
     "metadata": {},
     "output_type": "execute_result"
    }
   ],
   "source": [
    "things = list(['mozzarella', 'cinderella','salmonella'])\n",
    "things"
   ]
  },
  {
   "cell_type": "markdown",
   "id": "1259b1d4",
   "metadata": {},
   "source": [
    "# Q5. Capitalize the element in things that refers to a person and then print the list. Did it change the element in the list?\n",
    "# Ans :- "
   ]
  },
  {
   "cell_type": "code",
   "execution_count": 8,
   "id": "e31f4d02",
   "metadata": {},
   "outputs": [
    {
     "name": "stdout",
     "output_type": "stream",
     "text": [
      "Mozzarella\n",
      "Cinderella\n",
      "Salmonella\n"
     ]
    },
    {
     "data": {
      "text/plain": [
       "['mozzarella', 'cinderella', 'salmonella']"
      ]
     },
     "execution_count": 8,
     "metadata": {},
     "output_type": "execute_result"
    }
   ],
   "source": [
    "for i in things:\n",
    "    print(i.capitalize())\n",
    "things\n",
    "#Capitalize() will not update the list original values.\n"
   ]
  },
  {
   "cell_type": "markdown",
   "id": "e2400559",
   "metadata": {},
   "source": [
    "# Q6. Make a surprise list with the elements \"Groucho,\" \"Chico,\" and \"Harpo.\"\n",
    "# Ans :- "
   ]
  },
  {
   "cell_type": "code",
   "execution_count": 9,
   "id": "855e6d52",
   "metadata": {},
   "outputs": [
    {
     "data": {
      "text/plain": [
       "['Groucho', 'Chico', 'Harpo']"
      ]
     },
     "execution_count": 9,
     "metadata": {},
     "output_type": "execute_result"
    }
   ],
   "source": [
    "surprise_list = [\"Groucho\", \"Chico\", \"Harpo\"]\n",
    "surprise_list"
   ]
  },
  {
   "cell_type": "markdown",
   "id": "2869f67e",
   "metadata": {},
   "source": [
    "# Q7. Lowercase the last element of the surprise list, reverse it, and then capitalize it.\n",
    "# Ans :- "
   ]
  },
  {
   "cell_type": "code",
   "execution_count": 10,
   "id": "48ec737e",
   "metadata": {},
   "outputs": [
    {
     "data": {
      "text/plain": [
       "'harpo'"
      ]
     },
     "execution_count": 10,
     "metadata": {},
     "output_type": "execute_result"
    }
   ],
   "source": [
    "surprise_list[-1].lower()"
   ]
  },
  {
   "cell_type": "code",
   "execution_count": 16,
   "id": "d9fffbad",
   "metadata": {},
   "outputs": [
    {
     "data": {
      "text/plain": [
       "'opraH'"
      ]
     },
     "execution_count": 16,
     "metadata": {},
     "output_type": "execute_result"
    }
   ],
   "source": [
    "surprise_list[-1][::-1]"
   ]
  },
  {
   "cell_type": "code",
   "execution_count": 17,
   "id": "dae71426",
   "metadata": {},
   "outputs": [
    {
     "data": {
      "text/plain": [
       "'OPRAH'"
      ]
     },
     "execution_count": 17,
     "metadata": {},
     "output_type": "execute_result"
    }
   ],
   "source": [
    "surprise_list[-1][::-1].upper()"
   ]
  },
  {
   "cell_type": "markdown",
   "id": "fafd9038",
   "metadata": {},
   "source": [
    "# Q8. Make an English-to-French dictionary called e2f and print it. Here are your starter words: dog is chien, cat is chat, and walrus is morse.\n",
    "# Ans :- "
   ]
  },
  {
   "cell_type": "code",
   "execution_count": 19,
   "id": "98aebb3a",
   "metadata": {},
   "outputs": [],
   "source": [
    "e2f = {'dog':'chien','cat':'chat','walrus':'morse'}"
   ]
  },
  {
   "cell_type": "markdown",
   "id": "dedb3677",
   "metadata": {},
   "source": [
    "# Q9. Write the French word for walrus in your three-word dictionary e2f.\n",
    "# Ans :- "
   ]
  },
  {
   "cell_type": "code",
   "execution_count": 20,
   "id": "bfff3431",
   "metadata": {},
   "outputs": [
    {
     "data": {
      "text/plain": [
       "'morse'"
      ]
     },
     "execution_count": 20,
     "metadata": {},
     "output_type": "execute_result"
    }
   ],
   "source": [
    "e2f['walrus']"
   ]
  },
  {
   "cell_type": "markdown",
   "id": "1fbb3484",
   "metadata": {},
   "source": [
    "# Q10. Make a French-to-English dictionary called f2e from e2f. Use the items method.\n",
    "# Ans :- "
   ]
  },
  {
   "cell_type": "code",
   "execution_count": 21,
   "id": "96089507",
   "metadata": {},
   "outputs": [
    {
     "data": {
      "text/plain": [
       "{'chien': 'dog', 'chat': 'cat', 'morse': 'walrus'}"
      ]
     },
     "execution_count": 21,
     "metadata": {},
     "output_type": "execute_result"
    }
   ],
   "source": [
    "f2e = dict((key,value) for value,key in e2f.items())\n",
    "f2e"
   ]
  },
  {
   "cell_type": "markdown",
   "id": "9e3b468e",
   "metadata": {},
   "source": [
    "# Q11. Print the English version of the French word chien using f2e.\n",
    "# Ans :- "
   ]
  },
  {
   "cell_type": "code",
   "execution_count": 22,
   "id": "b3f8b5f0",
   "metadata": {},
   "outputs": [
    {
     "data": {
      "text/plain": [
       "'dog'"
      ]
     },
     "execution_count": 22,
     "metadata": {},
     "output_type": "execute_result"
    }
   ],
   "source": [
    "f2e['chien']"
   ]
  },
  {
   "cell_type": "markdown",
   "id": "f3fc8746",
   "metadata": {},
   "source": [
    "# Q12. Make and print a set of English words from the keys in e2f.\n",
    "# Ans :- "
   ]
  },
  {
   "cell_type": "code",
   "execution_count": 23,
   "id": "473c703f",
   "metadata": {},
   "outputs": [
    {
     "data": {
      "text/plain": [
       "dict_keys(['dog', 'cat', 'walrus'])"
      ]
     },
     "execution_count": 23,
     "metadata": {},
     "output_type": "execute_result"
    }
   ],
   "source": [
    "e2f.keys()"
   ]
  },
  {
   "cell_type": "markdown",
   "id": "dc44c506",
   "metadata": {},
   "source": [
    "# Q13. Make a multilevel dictionary called life. Use these strings for the topmost keys: 'animals', 'plants', and 'other'. Make the 'animals' key refer to another dictionary with the keys 'cats', 'octopi', and 'emus'. Make the 'cats' key refer to a list of strings with the values 'Henri', 'Grumpy', and 'Lucy'. Make all the other keys refer to empty dictionaries.\n",
    "# Ans :- "
   ]
  },
  {
   "cell_type": "code",
   "execution_count": 24,
   "id": "8eedbe88",
   "metadata": {},
   "outputs": [
    {
     "data": {
      "text/plain": [
       "{'animals': {'cat': ['Henri', 'Grumpy', 'Lucy'], 'octopi': '', 'emus': ''},\n",
       " 'plants': '',\n",
       " 'other': ''}"
      ]
     },
     "execution_count": 24,
     "metadata": {},
     "output_type": "execute_result"
    }
   ],
   "source": [
    "life ={'animals':{'cat':['Henri', 'Grumpy', 'Lucy'], 'octopi':'', 'emus':''},\n",
    "       'plants' :'',\n",
    "       'other' :'' }\n",
    "life\n"
   ]
  },
  {
   "cell_type": "markdown",
   "id": "3fd34556",
   "metadata": {},
   "source": [
    "# Q14. Print the top-level keys of life.\n",
    "# Ans :- "
   ]
  },
  {
   "cell_type": "code",
   "execution_count": 25,
   "id": "9fc117c3",
   "metadata": {},
   "outputs": [
    {
     "data": {
      "text/plain": [
       "dict_keys(['animals', 'plants', 'other'])"
      ]
     },
     "execution_count": 25,
     "metadata": {},
     "output_type": "execute_result"
    }
   ],
   "source": [
    "life.keys()\n"
   ]
  },
  {
   "cell_type": "markdown",
   "id": "6b8b3f5a",
   "metadata": {},
   "source": [
    "# Q15. Print the keys for life['animals'].\n",
    "# Ans :- "
   ]
  },
  {
   "cell_type": "code",
   "execution_count": 26,
   "id": "d8ef91b6",
   "metadata": {},
   "outputs": [
    {
     "data": {
      "text/plain": [
       "dict_keys(['cat', 'octopi', 'emus'])"
      ]
     },
     "execution_count": 26,
     "metadata": {},
     "output_type": "execute_result"
    }
   ],
   "source": [
    "life['animals'].keys()"
   ]
  },
  {
   "cell_type": "markdown",
   "id": "f5b83a6f",
   "metadata": {},
   "source": [
    "# Q16. Print the values for life['animals']['cats']\n",
    "# Ans :- "
   ]
  },
  {
   "cell_type": "code",
   "execution_count": 27,
   "id": "ef51c24f",
   "metadata": {},
   "outputs": [
    {
     "data": {
      "text/plain": [
       "['Henri', 'Grumpy', 'Lucy']"
      ]
     },
     "execution_count": 27,
     "metadata": {},
     "output_type": "execute_result"
    }
   ],
   "source": [
    "life['animals']['cat']"
   ]
  },
  {
   "cell_type": "code",
   "execution_count": null,
   "id": "7dae8580",
   "metadata": {},
   "outputs": [],
   "source": []
  }
 ],
 "metadata": {
  "kernelspec": {
   "display_name": "Python 3 (ipykernel)",
   "language": "python",
   "name": "python3"
  },
  "language_info": {
   "codemirror_mode": {
    "name": "ipython",
    "version": 3
   },
   "file_extension": ".py",
   "mimetype": "text/x-python",
   "name": "python",
   "nbconvert_exporter": "python",
   "pygments_lexer": "ipython3",
   "version": "3.9.7"
  },
  "varInspector": {
   "cols": {
    "lenName": 16,
    "lenType": 16,
    "lenVar": 40
   },
   "kernels_config": {
    "python": {
     "delete_cmd_postfix": "",
     "delete_cmd_prefix": "del ",
     "library": "var_list.py",
     "varRefreshCmd": "print(var_dic_list())"
    },
    "r": {
     "delete_cmd_postfix": ") ",
     "delete_cmd_prefix": "rm(",
     "library": "var_list.r",
     "varRefreshCmd": "cat(var_dic_list()) "
    }
   },
   "types_to_exclude": [
    "module",
    "function",
    "builtin_function_or_method",
    "instance",
    "_Feature"
   ],
   "window_display": false
  }
 },
 "nbformat": 4,
 "nbformat_minor": 5
}
