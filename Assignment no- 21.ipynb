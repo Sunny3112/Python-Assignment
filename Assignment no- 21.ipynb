{
 "cells": [
  {
   "cell_type": "markdown",
   "id": "9fa8e19f",
   "metadata": {},
   "source": [
    "# Q1. Add the current date to the text file today.txt as a string.\n",
    "# Ans :- "
   ]
  },
  {
   "cell_type": "code",
   "execution_count": 1,
   "id": "6141f39a",
   "metadata": {},
   "outputs": [
    {
     "data": {
      "text/plain": [
       "'2023-05-30'"
      ]
     },
     "execution_count": 1,
     "metadata": {},
     "output_type": "execute_result"
    }
   ],
   "source": [
    "import datetime\n",
    "from datetime import date\n",
    "now = date.today()\n",
    "cur_date = now.isoformat()\n",
    "cur_date"
   ]
  },
  {
   "cell_type": "code",
   "execution_count": 2,
   "id": "c2cebcbc",
   "metadata": {},
   "outputs": [],
   "source": [
    "with open('today.txt','w') as file:\n",
    "    file.write(cur_date)"
   ]
  },
  {
   "cell_type": "markdown",
   "id": "bc8535a0",
   "metadata": {},
   "source": [
    "# Q2. Read the text file today.txt into the string today_string\n",
    "# Ans :- "
   ]
  },
  {
   "cell_type": "code",
   "execution_count": 3,
   "id": "0f80afcb",
   "metadata": {},
   "outputs": [
    {
     "data": {
      "text/plain": [
       "'2023-05-30'"
      ]
     },
     "execution_count": 3,
     "metadata": {},
     "output_type": "execute_result"
    }
   ],
   "source": [
    "with open('today.txt','r') as file:\n",
    "    today_string = file.read()\n",
    "today_string"
   ]
  },
  {
   "cell_type": "markdown",
   "id": "3d175b4e",
   "metadata": {},
   "source": [
    "# Q3. Parse the date from today_string.\n",
    "# Ans :- "
   ]
  },
  {
   "cell_type": "code",
   "execution_count": 4,
   "id": "bfd908f8",
   "metadata": {},
   "outputs": [
    {
     "data": {
      "text/plain": [
       "datetime.datetime(2023, 5, 30, 0, 0)"
      ]
     },
     "execution_count": 4,
     "metadata": {},
     "output_type": "execute_result"
    }
   ],
   "source": [
    "from datetime import datetime\n",
    "format = '%Y-%m-%d'\n",
    "datetime.strptime(today_string,format)"
   ]
  },
  {
   "cell_type": "markdown",
   "id": "aa600e54",
   "metadata": {},
   "source": [
    "# Q4. List the files in your current directory\n",
    "# Ans :- "
   ]
  },
  {
   "cell_type": "code",
   "execution_count": 5,
   "id": "3e507f5f",
   "metadata": {},
   "outputs": [
    {
     "data": {
      "text/plain": [
       "['Assignment no- 4.ipynb',\n",
       " 'Assignment no- 6.ipynb',\n",
       " 'Assignment no- 21.ipynb',\n",
       " 'Assignment no- 18.ipynb',\n",
       " 'Assignment no- 2.ipynb',\n",
       " 'Assignment no- 7.ipynb',\n",
       " 'Untitled.ipynb',\n",
       " 'today.txt',\n",
       " 'Assignment no- 20.ipynb',\n",
       " 'Assignment no- 5.ipynb',\n",
       " 'Assignment no- 1.ipynb',\n",
       " 'Assignment no- 19.ipynb',\n",
       " 'Assignment no- 3.ipynb',\n",
       " 'Assignment no- 15.ipynb',\n",
       " 'Assignment no- 17.ipynb',\n",
       " 'books.csv',\n",
       " 'Assignment no- 9.ipynb',\n",
       " 'abc.csv',\n",
       " 'Assignment no- 13.ipynb',\n",
       " 'Assignment no- 11.ipynb',\n",
       " 'test.txt',\n",
       " '.ipynb_checkpoints',\n",
       " 'Assignment no- 16.ipynb',\n",
       " 'Assignment no- 14.ipynb',\n",
       " 'books.db',\n",
       " 'Assignment no- 10.ipynb',\n",
       " 'Assignment no- 8.ipynb',\n",
       " 'Assignment no- 12.ipynb']"
      ]
     },
     "execution_count": 5,
     "metadata": {},
     "output_type": "execute_result"
    }
   ],
   "source": [
    "import os\n",
    "os.listdir('.')\n"
   ]
  },
  {
   "cell_type": "code",
   "execution_count": 6,
   "id": "4be9f191",
   "metadata": {},
   "outputs": [],
   "source": [
    "import multiprocessing\n",
    "\n",
    "def printsec(seconds):\n",
    "    from datetime import datetime\n",
    "    from time import sleep\n",
    "    sleep(seconds)\n",
    "    print('wait', seconds, 'seconds, time is', datetime.utcnow())\n",
    "    \n",
    "if __name__ == '__main__':\n",
    "    import random    \n",
    "    for n in range(3):\n",
    "        seconds = random.random()\n",
    "        proc = multiprocessing.Process(target=printsec, args=(seconds,))\n",
    "        proc.start()"
   ]
  },
  {
   "cell_type": "code",
   "execution_count": 12,
   "id": "313c6252",
   "metadata": {},
   "outputs": [
    {
     "name": "stdout",
     "output_type": "stream",
     "text": [
      "Traceback (most recent call last):\r\n",
      "  File \"/Users/sunnygadhiya/Documents/practice /Python/Assignment/Assignment no- 1.ipynb\", line 311, in <module>\r\n",
      "    \"execution_count\": null,\r\n",
      "NameError: name 'null' is not defined\r\n"
     ]
    }
   ],
   "source": [
    "!python Assignment\\ no-\\ 1.ipynb"
   ]
  },
  {
   "cell_type": "code",
   "execution_count": 13,
   "id": "8e314d65",
   "metadata": {},
   "outputs": [
    {
     "data": {
      "text/plain": [
       "datetime.date(1995, 9, 9)"
      ]
     },
     "execution_count": 13,
     "metadata": {},
     "output_type": "execute_result"
    }
   ],
   "source": [
    "my_dob = date(1995,9,9)\n",
    "my_dob"
   ]
  },
  {
   "cell_type": "markdown",
   "id": "d7bbcd29",
   "metadata": {},
   "source": [
    "# Q5. Create a date object of your day of birth.\n",
    "# Ans :- "
   ]
  },
  {
   "cell_type": "code",
   "execution_count": 15,
   "id": "285af67f",
   "metadata": {},
   "outputs": [
    {
     "data": {
      "text/plain": [
       "datetime.date(1995, 9, 9)"
      ]
     },
     "execution_count": 15,
     "metadata": {},
     "output_type": "execute_result"
    }
   ],
   "source": [
    "my_DOB = date(1995,9,9)\n",
    "my_DOB"
   ]
  },
  {
   "attachments": {},
   "cell_type": "markdown",
   "id": "009530ec",
   "metadata": {},
   "source": [
    "# Q6. What day of the week was your day of birth?\n",
    "# Ans :-"
   ]
  },
  {
   "cell_type": "code",
   "execution_count": 17,
   "id": "43037a36",
   "metadata": {},
   "outputs": [
    {
     "data": {
      "text/plain": [
       "5"
      ]
     },
     "execution_count": 17,
     "metadata": {},
     "output_type": "execute_result"
    }
   ],
   "source": [
    "my_DOB.weekday()"
   ]
  },
  {
   "cell_type": "markdown",
   "id": "b046ff1e",
   "metadata": {},
   "source": [
    "# Q7. When will you be (or when were you) 10,000 days old?\n",
    "# Ans :- "
   ]
  },
  {
   "cell_type": "code",
   "execution_count": 18,
   "id": "c9155ff4",
   "metadata": {},
   "outputs": [
    {
     "data": {
      "text/plain": [
       "datetime.date(2023, 1, 25)"
      ]
     },
     "execution_count": 18,
     "metadata": {},
     "output_type": "execute_result"
    }
   ],
   "source": [
    "from datetime import timedelta\n",
    "day10000 = my_DOB + timedelta(days=10000)\n",
    "day10000\n"
   ]
  },
  {
   "cell_type": "code",
   "execution_count": null,
   "id": "a615ce08",
   "metadata": {},
   "outputs": [],
   "source": []
  }
 ],
 "metadata": {
  "kernelspec": {
   "display_name": "Python 3 (ipykernel)",
   "language": "python",
   "name": "python3"
  },
  "language_info": {
   "codemirror_mode": {
    "name": "ipython",
    "version": 3
   },
   "file_extension": ".py",
   "mimetype": "text/x-python",
   "name": "python",
   "nbconvert_exporter": "python",
   "pygments_lexer": "ipython3",
   "version": "3.9.7"
  },
  "varInspector": {
   "cols": {
    "lenName": 16,
    "lenType": 16,
    "lenVar": 40
   },
   "kernels_config": {
    "python": {
     "delete_cmd_postfix": "",
     "delete_cmd_prefix": "del ",
     "library": "var_list.py",
     "varRefreshCmd": "print(var_dic_list())"
    },
    "r": {
     "delete_cmd_postfix": ") ",
     "delete_cmd_prefix": "rm(",
     "library": "var_list.r",
     "varRefreshCmd": "cat(var_dic_list()) "
    }
   },
   "types_to_exclude": [
    "module",
    "function",
    "builtin_function_or_method",
    "instance",
    "_Feature"
   ],
   "window_display": false
  }
 },
 "nbformat": 4,
 "nbformat_minor": 5
}
