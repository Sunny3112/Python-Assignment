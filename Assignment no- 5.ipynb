{
 "cells": [
  {
   "cell_type": "markdown",
   "id": "2dde57c9",
   "metadata": {},
   "source": [
    "# Q1. What does an empty dictionary's code look like?\n",
    "\n",
    "# Ans :-\n",
    "\n",
    "    To create the empty dictionary the dictionary should be set in carly bracket {}\n",
    "    Or by using dict()."
   ]
  },
  {
   "cell_type": "code",
   "execution_count": 2,
   "id": "e44dd319",
   "metadata": {},
   "outputs": [
    {
     "data": {
      "text/plain": [
       "dict"
      ]
     },
     "execution_count": 2,
     "metadata": {},
     "output_type": "execute_result"
    }
   ],
   "source": [
    "# for ex.\n",
    "dict = {}\n",
    "type(dict)"
   ]
  },
  {
   "cell_type": "markdown",
   "id": "d8c6cbe9",
   "metadata": {},
   "source": [
    "# Q2. What is the value of a dictionary value with the key 'foo' and the value 42?\n",
    "\n",
    "# Ans :-"
   ]
  },
  {
   "cell_type": "code",
   "execution_count": 6,
   "id": "5114fc54",
   "metadata": {},
   "outputs": [
    {
     "data": {
      "text/plain": [
       "{'foo': 42}"
      ]
     },
     "execution_count": 6,
     "metadata": {},
     "output_type": "execute_result"
    }
   ],
   "source": [
    "{'foo' : 42}"
   ]
  },
  {
   "cell_type": "markdown",
   "id": "dcebe237",
   "metadata": {},
   "source": [
    "# Q3. What is the most significant distinction between a dictionary and a list?\n",
    "\n",
    "# Ans :- \n",
    "\n",
    "    In list the items are in ordered form, while in dictionary the items are in unordered form."
   ]
  },
  {
   "cell_type": "markdown",
   "id": "7d98d29b",
   "metadata": {},
   "source": [
    "# Q4. What happens if you try to access spam['foo'] if spam is {'bar': 100}?\n",
    "\n",
    "# Ans :- "
   ]
  },
  {
   "cell_type": "code",
   "execution_count": 8,
   "id": "e2aaf59d",
   "metadata": {},
   "outputs": [
    {
     "ename": "KeyError",
     "evalue": "'foo'",
     "output_type": "error",
     "traceback": [
      "\u001b[0;31m---------------------------------------------------------------------------\u001b[0m",
      "\u001b[0;31mKeyError\u001b[0m                                  Traceback (most recent call last)",
      "\u001b[0;32m/var/folders/xn/h2374fms1gv8xwtps_vftzwh0000gn/T/ipykernel_19119/3611763342.py\u001b[0m in \u001b[0;36m<module>\u001b[0;34m\u001b[0m\n\u001b[1;32m      1\u001b[0m \u001b[0mspam\u001b[0m \u001b[0;34m=\u001b[0m \u001b[0;34m{\u001b[0m\u001b[0;34m'bar'\u001b[0m \u001b[0;34m:\u001b[0m \u001b[0;36m100\u001b[0m\u001b[0;34m}\u001b[0m\u001b[0;34m\u001b[0m\u001b[0;34m\u001b[0m\u001b[0m\n\u001b[0;32m----> 2\u001b[0;31m \u001b[0mspam\u001b[0m\u001b[0;34m[\u001b[0m\u001b[0;34m'foo'\u001b[0m\u001b[0;34m]\u001b[0m\u001b[0;34m\u001b[0m\u001b[0;34m\u001b[0m\u001b[0m\n\u001b[0m",
      "\u001b[0;31mKeyError\u001b[0m: 'foo'"
     ]
    }
   ],
   "source": [
    "spam = {'bar' : 100}\n",
    "spam['foo'] # As we can see that by using spam['foo'] give us the KeyError."
   ]
  },
  {
   "cell_type": "markdown",
   "id": "0d889e6d",
   "metadata": {},
   "source": [
    "# Q5. If a dictionary is stored in spam, what is the difference between the expressions 'cat' in spam and 'cat' in spam.keys()?\n",
    "\n",
    "# Ans :-"
   ]
  },
  {
   "cell_type": "code",
   "execution_count": 2,
   "id": "09ba96a8",
   "metadata": {},
   "outputs": [
    {
     "data": {
      "text/plain": [
       "True"
      ]
     },
     "execution_count": 2,
     "metadata": {},
     "output_type": "execute_result"
    }
   ],
   "source": [
    "spam = {'cat' : 'Meow'}\n",
    "'cat' in spam"
   ]
  },
  {
   "cell_type": "code",
   "execution_count": 3,
   "id": "18234027",
   "metadata": {},
   "outputs": [
    {
     "data": {
      "text/plain": [
       "True"
      ]
     },
     "execution_count": 3,
     "metadata": {},
     "output_type": "execute_result"
    }
   ],
   "source": [
    "'cat' in spam.keys() # As we can see 'cat' is the key of the dict and return the output as True, so there is no difference"
   ]
  },
  {
   "cell_type": "markdown",
   "id": "b5b9fbf3",
   "metadata": {},
   "source": [
    "# Q6. If a dictionary is stored in spam, what is the difference between the expressions 'cat' in spam and 'cat' in spam.values()?\n",
    "\n",
    "# Ans :-"
   ]
  },
  {
   "cell_type": "code",
   "execution_count": 5,
   "id": "976addd5",
   "metadata": {},
   "outputs": [
    {
     "data": {
      "text/plain": [
       "True"
      ]
     },
     "execution_count": 5,
     "metadata": {},
     "output_type": "execute_result"
    }
   ],
   "source": [
    "spam = {'cat' : 'Meow'}\n",
    "'cat' in spam   # 'cat' in spam check whether there is a 'cat' key in a dict"
   ]
  },
  {
   "cell_type": "code",
   "execution_count": 6,
   "id": "2ef197b4",
   "metadata": {},
   "outputs": [
    {
     "data": {
      "text/plain": [
       "False"
      ]
     },
     "execution_count": 6,
     "metadata": {},
     "output_type": "execute_result"
    }
   ],
   "source": [
    "'cat' in spam.values()  # 'cat' in spam.values() check whether there is a 'cat' value in dict so there is no values contain as 'cat' so it returns as False"
   ]
  },
  {
   "cell_type": "markdown",
   "id": "9ecaadb3",
   "metadata": {},
   "source": [
    "# Q7. What is a shortcut for the following code?\n",
    "    if 'color' not in spam:\n",
    "    spam['color'] = 'black'\n",
    "\n",
    "\n",
    "# Ans :- "
   ]
  },
  {
   "cell_type": "code",
   "execution_count": 9,
   "id": "4fdc9fae",
   "metadata": {},
   "outputs": [
    {
     "data": {
      "text/plain": [
       "{'cat': 'Meow', 'colour': 'black'}"
      ]
     },
     "execution_count": 9,
     "metadata": {},
     "output_type": "execute_result"
    }
   ],
   "source": [
    "spam = {'cat' : 'Meow'}\n",
    "spam.setdefault('colour' , 'black')\n",
    "spam"
   ]
  },
  {
   "cell_type": "markdown",
   "id": "f89e8a12",
   "metadata": {},
   "source": [
    "# Q8. How do you \"pretty print\" dictionary values using which module and function?\n",
    "\n",
    "# Ans :-"
   ]
  },
  {
   "cell_type": "code",
   "execution_count": 10,
   "id": "aafcda6e",
   "metadata": {},
   "outputs": [],
   "source": [
    "import pprint\n",
    "\n",
    "dct = [{'Name' : 'Sunny Gadhiya' , 'Age' : '27'},\n",
    "      {'Name' : 'Sanjay Gadhiya' , 'Age' : '58'},\n",
    "      {'Name' : 'Krishna Gadhiya' , 'Age' : '50'}]"
   ]
  },
  {
   "cell_type": "code",
   "execution_count": 11,
   "id": "93a8031d",
   "metadata": {},
   "outputs": [
    {
     "name": "stdout",
     "output_type": "stream",
     "text": [
      "[{'Age': '27', 'Name': 'Sunny Gadhiya'},\n",
      " {'Age': '58', 'Name': 'Sanjay Gadhiya'},\n",
      " {'Age': '50', 'Name': 'Krishna Gadhiya'}]\n"
     ]
    }
   ],
   "source": [
    "# Printing with pprint()\n",
    "pprint.pprint(dct)"
   ]
  },
  {
   "cell_type": "code",
   "execution_count": null,
   "id": "c68b6347",
   "metadata": {},
   "outputs": [],
   "source": []
  }
 ],
 "metadata": {
  "kernelspec": {
   "display_name": "Python 3 (ipykernel)",
   "language": "python",
   "name": "python3"
  },
  "language_info": {
   "codemirror_mode": {
    "name": "ipython",
    "version": 3
   },
   "file_extension": ".py",
   "mimetype": "text/x-python",
   "name": "python",
   "nbconvert_exporter": "python",
   "pygments_lexer": "ipython3",
   "version": "3.9.7"
  },
  "varInspector": {
   "cols": {
    "lenName": 16,
    "lenType": 16,
    "lenVar": 40
   },
   "kernels_config": {
    "python": {
     "delete_cmd_postfix": "",
     "delete_cmd_prefix": "del ",
     "library": "var_list.py",
     "varRefreshCmd": "print(var_dic_list())"
    },
    "r": {
     "delete_cmd_postfix": ") ",
     "delete_cmd_prefix": "rm(",
     "library": "var_list.r",
     "varRefreshCmd": "cat(var_dic_list()) "
    }
   },
   "types_to_exclude": [
    "module",
    "function",
    "builtin_function_or_method",
    "instance",
    "_Feature"
   ],
   "window_display": false
  }
 },
 "nbformat": 4,
 "nbformat_minor": 5
}
