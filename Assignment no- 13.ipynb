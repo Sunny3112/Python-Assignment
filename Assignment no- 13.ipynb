{
 "cells": [
  {
   "cell_type": "markdown",
   "id": "83cd1870",
   "metadata": {},
   "source": [
    "# Q1. What advantages do Excel spreadsheets have over CSV spreadsheets?\n",
    "# Ans :-"
   ]
  },
  {
   "cell_type": "markdown",
   "id": "5dd87371",
   "metadata": {},
   "source": [
    "It is a binary file that holds information about all the worksheets in a workbook.\n",
    "An Excel not only stores data but can also do operations on the data.\n",
    "Files saved in excel cannot be opened or edited by text editors.\n",
    "large files user is much easier in Excel for the end user. Also, you can have additional functions like selecting individual cells for import, convert dates and time automatically, reading formulas and their results, filters, sorting, etc.\n",
    "Apart from text, data can also be stored in form of charts and graphs.\n",
    "Excel can connect to external data sources to fetch data. You can use custom add-in in Excel to increase its functionality.\n",
    "Excel allows for Review of Data with detailed tracking and commenting feature.\n",
    "In Excel, spreadsheets can have values of data types other than strings; cells can have different fonts, sizes, or color settings; cells can have varying widths and heights; adjacent cells can be merged."
   ]
  },
  {
   "attachments": {},
   "cell_type": "markdown",
   "id": "5afcac91",
   "metadata": {},
   "source": [
    "# Q2. What do you pass to csv.reader() and csv.writer() to create reader and writer objects?\n",
    "# Ans :-\n"
   ]
  },
  {
   "cell_type": "code",
   "execution_count": null,
   "id": "2e6328ec",
   "metadata": {},
   "outputs": [],
   "source": [
    "#we pass a File object, obtained from a call to open().\n",
    "import csv\n",
    "file_csv = open('abc.csv')\n",
    "filereader = csv.reader(file_csv)\n",
    "fileData = list(filereader)\n",
    "fileData"
   ]
  },
  {
   "cell_type": "markdown",
   "id": "f600cbc1",
   "metadata": {},
   "source": [
    "# Q3. What modes do File objects for reader and writer objects need to be opened in?\n",
    "# Ans :-"
   ]
  },
  {
   "cell_type": "markdown",
   "id": "be3bc035",
   "metadata": {},
   "source": [
    "File objects need to be opened in read-binary ('rb') for Reader objects and write-binary ('wb') for Writer objects"
   ]
  },
  {
   "cell_type": "markdown",
   "id": "4589a4e4",
   "metadata": {},
   "source": [
    "# Q4. What method takes a list argument and writes it to a CSV file?\n",
    "# Ans:- "
   ]
  },
  {
   "cell_type": "code",
   "execution_count": 2,
   "id": "f2e1ebd3",
   "metadata": {},
   "outputs": [
    {
     "data": {
      "text/plain": [
       "14"
      ]
     },
     "execution_count": 2,
     "metadata": {},
     "output_type": "execute_result"
    }
   ],
   "source": [
    "#The writerow() method\n",
    "File_abc = open('abc.csv','w')\n",
    "File_Writer = csv.writer(File_abc)\n",
    "csv.writer(File_abc).writerow(['cat','fish','dog'])"
   ]
  },
  {
   "cell_type": "markdown",
   "id": "db00a5d1",
   "metadata": {},
   "source": [
    "# Q5. What do the keyword arguments delimiter and line terminator do?\n",
    "# Ans :- "
   ]
  },
  {
   "cell_type": "markdown",
   "id": "125a4439",
   "metadata": {},
   "source": [
    "The delimiter argument changes the string used to separate cells in a row.\n",
    "The line terminator argument changes the string used to separate rows.\n"
   ]
  },
  {
   "cell_type": "markdown",
   "id": "40001fe7",
   "metadata": {},
   "source": [
    "# Q6. What function takes a string of JSON data and returns a Python data structure?\n",
    "# Ans :-"
   ]
  },
  {
   "cell_type": "markdown",
   "id": "4b91b1b7",
   "metadata": {},
   "source": [
    "json.loads()"
   ]
  },
  {
   "cell_type": "markdown",
   "id": "56050939",
   "metadata": {},
   "source": [
    "# Q7. What function takes a Python data structure and returns a string of JSON data?\n",
    "# Ans :-"
   ]
  },
  {
   "cell_type": "markdown",
   "id": "c0d0ce73",
   "metadata": {},
   "source": [
    "json.dumps()"
   ]
  },
  {
   "cell_type": "code",
   "execution_count": null,
   "id": "a42ddd2d",
   "metadata": {},
   "outputs": [],
   "source": []
  }
 ],
 "metadata": {
  "kernelspec": {
   "display_name": "Python 3 (ipykernel)",
   "language": "python",
   "name": "python3"
  },
  "language_info": {
   "codemirror_mode": {
    "name": "ipython",
    "version": 3
   },
   "file_extension": ".py",
   "mimetype": "text/x-python",
   "name": "python",
   "nbconvert_exporter": "python",
   "pygments_lexer": "ipython3",
   "version": "3.9.7"
  },
  "varInspector": {
   "cols": {
    "lenName": 16,
    "lenType": 16,
    "lenVar": 40
   },
   "kernels_config": {
    "python": {
     "delete_cmd_postfix": "",
     "delete_cmd_prefix": "del ",
     "library": "var_list.py",
     "varRefreshCmd": "print(var_dic_list())"
    },
    "r": {
     "delete_cmd_postfix": ") ",
     "delete_cmd_prefix": "rm(",
     "library": "var_list.r",
     "varRefreshCmd": "cat(var_dic_list()) "
    }
   },
   "types_to_exclude": [
    "module",
    "function",
    "builtin_function_or_method",
    "instance",
    "_Feature"
   ],
   "window_display": false
  }
 },
 "nbformat": 4,
 "nbformat_minor": 5
}
