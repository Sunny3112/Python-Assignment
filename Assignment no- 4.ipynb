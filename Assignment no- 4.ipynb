{
 "cells": [
  {
   "cell_type": "markdown",
   "id": "1a7c68b7",
   "metadata": {},
   "source": [
    "# Q1. What exactly is [ ]?\n",
    "\n",
    "# Ans :-\n",
    "\n",
    "    The empty list value, which is a list value that continue no  items. This is similar to how is the empty    string value."
   ]
  },
  {
   "cell_type": "markdown",
   "id": "d277b6ce",
   "metadata": {},
   "source": [
    "# Q2. In a list of values stored in a variable called spam, how would you assign the value 'hello' as the third value? (Assume [2, 4, 6, 8, 10] are in spam\n",
    "# Let's pretend the spam includes the list ['a', 'b', 'c', 'd'] for the next three queries.\n",
    "\n",
    "# Ans :-"
   ]
  },
  {
   "cell_type": "code",
   "execution_count": 1,
   "id": "a0362b57",
   "metadata": {},
   "outputs": [
    {
     "data": {
      "text/plain": [
       "[2, 4, 'hello', 8, 10]"
      ]
     },
     "execution_count": 1,
     "metadata": {},
     "output_type": "execute_result"
    }
   ],
   "source": [
    "# Solution for changing the value of third index\n",
    "spam = [2 ,4 , 6 , 8, 10]\n",
    "spam[2] = 'hello'\n",
    "spam"
   ]
  },
  {
   "cell_type": "markdown",
   "id": "a656eb77",
   "metadata": {},
   "source": [
    "# Q3. What is the value of spam[int(int('3' * 2) / 11)]?\n",
    "\n",
    "# Ans :-"
   ]
  },
  {
   "cell_type": "code",
   "execution_count": 2,
   "id": "a3055fcb",
   "metadata": {},
   "outputs": [
    {
     "data": {
      "text/plain": [
       "'s'"
      ]
     },
     "execution_count": 2,
     "metadata": {},
     "output_type": "execute_result"
    }
   ],
   "source": [
    "spam = ['p' , 'q' , 'r' , 's']\n",
    "spam[int(int('3' * 2) / 11)]"
   ]
  },
  {
   "cell_type": "markdown",
   "id": "96db43d1",
   "metadata": {},
   "source": [
    "# Q4. What is the value of spam[-1]?\n",
    "\n",
    "# Ans :- "
   ]
  },
  {
   "cell_type": "code",
   "execution_count": 3,
   "id": "909cee42",
   "metadata": {},
   "outputs": [
    {
     "data": {
      "text/plain": [
       "'s'"
      ]
     },
     "execution_count": 3,
     "metadata": {},
     "output_type": "execute_result"
    }
   ],
   "source": [
    "# If we consider the spam value from above question as spam = ['p' , 'q' , 'r' , 's'] than \n",
    "spam = ['p' , 'q' , 'r' , 's']\n",
    "spam[-1]"
   ]
  },
  {
   "cell_type": "markdown",
   "id": "549964f9",
   "metadata": {},
   "source": [
    "# Q5. What is the value of spam[:2]?\n",
    "\n",
    "\n",
    "# Ans :-"
   ]
  },
  {
   "cell_type": "code",
   "execution_count": 4,
   "id": "81fd3a91",
   "metadata": {},
   "outputs": [
    {
     "data": {
      "text/plain": [
       "['p', 'q']"
      ]
     },
     "execution_count": 4,
     "metadata": {},
     "output_type": "execute_result"
    }
   ],
   "source": [
    "spam = ['p' , 'q' , 'r' , 's']\n",
    "spam[:2] # from the assigned value of spam the index value of 2 is 'r'"
   ]
  },
  {
   "cell_type": "markdown",
   "id": "f654bb55",
   "metadata": {},
   "source": [
    "# Note :-\n",
    "Let's pretend bacon has the list [3.14, 'cat,' 11, 'cat,' True] for the next three questions. "
   ]
  },
  {
   "cell_type": "markdown",
   "id": "4bbac104",
   "metadata": {},
   "source": [
    "# Q6. What is the value of bacon.index('cat')?\n",
    "\n",
    "# Ans :-"
   ]
  },
  {
   "cell_type": "code",
   "execution_count": 5,
   "id": "4eddf985",
   "metadata": {},
   "outputs": [
    {
     "data": {
      "text/plain": [
       "1"
      ]
     },
     "execution_count": 5,
     "metadata": {},
     "output_type": "execute_result"
    }
   ],
   "source": [
    "bacon = [3.14 , 'cat' , 11 , 'cat' , True]\n",
    "bacon.index('cat') # It returns the occurance of cat in list "
   ]
  },
  {
   "cell_type": "markdown",
   "id": "dabbddb5",
   "metadata": {},
   "source": [
    "# Q7. How does bacon.append(99) change the look of the list value in bacon?\n",
    "\n",
    "# Ans :-"
   ]
  },
  {
   "cell_type": "code",
   "execution_count": 6,
   "id": "ab039b96",
   "metadata": {},
   "outputs": [
    {
     "data": {
      "text/plain": [
       "[3.14, 'cat', 11, 'cat', True]"
      ]
     },
     "execution_count": 6,
     "metadata": {},
     "output_type": "execute_result"
    }
   ],
   "source": [
    "bacon"
   ]
  },
  {
   "cell_type": "code",
   "execution_count": 8,
   "id": "3d5b8199",
   "metadata": {},
   "outputs": [],
   "source": [
    "bacon.append(99) # By using the append function it add the value in the last in the list"
   ]
  },
  {
   "cell_type": "code",
   "execution_count": 9,
   "id": "11ff784e",
   "metadata": {},
   "outputs": [
    {
     "data": {
      "text/plain": [
       "[3.14, 'cat', 11, 'cat', True, 99]"
      ]
     },
     "execution_count": 9,
     "metadata": {},
     "output_type": "execute_result"
    }
   ],
   "source": [
    "bacon"
   ]
  },
  {
   "cell_type": "markdown",
   "id": "4ac01396",
   "metadata": {},
   "source": [
    "# Q8. How does bacon.remove('cat') change the look of the list in bacon?\n",
    "\n",
    "# Ans :-"
   ]
  },
  {
   "cell_type": "code",
   "execution_count": 10,
   "id": "e26409ae",
   "metadata": {},
   "outputs": [
    {
     "data": {
      "text/plain": [
       "[3.14, 'cat', 11, 'cat', True, 99]"
      ]
     },
     "execution_count": 10,
     "metadata": {},
     "output_type": "execute_result"
    }
   ],
   "source": [
    "bacon"
   ]
  },
  {
   "cell_type": "code",
   "execution_count": 11,
   "id": "1c7da914",
   "metadata": {},
   "outputs": [],
   "source": [
    "bacon.remove('cat') # remove is the function to remove any int or str value from list"
   ]
  },
  {
   "cell_type": "code",
   "execution_count": 12,
   "id": "2265ffad",
   "metadata": {},
   "outputs": [
    {
     "data": {
      "text/plain": [
       "[3.14, 11, 'cat', True, 99]"
      ]
     },
     "execution_count": 12,
     "metadata": {},
     "output_type": "execute_result"
    }
   ],
   "source": [
    "bacon"
   ]
  },
  {
   "cell_type": "markdown",
   "id": "1c7380c0",
   "metadata": {},
   "source": [
    "# Q9. What are the list concatenation and list replication operators?\n",
    "\n",
    "# Ans :-\n",
    "\n",
    "    The operator for the list concatenation is (+) and the operator for the replication is (*)"
   ]
  },
  {
   "cell_type": "markdown",
   "id": "9f2b865f",
   "metadata": {},
   "source": [
    "# Q10. What is difference between the list methods append() and insert()?\n",
    "\n",
    "# Ans :- "
   ]
  },
  {
   "cell_type": "code",
   "execution_count": 14,
   "id": "f44180c7",
   "metadata": {},
   "outputs": [
    {
     "data": {
      "text/plain": [
       "[3.14, 11, 'cat', True, 99]"
      ]
     },
     "execution_count": 14,
     "metadata": {},
     "output_type": "execute_result"
    }
   ],
   "source": [
    "# append() Appends the value to the end of the list for ex.\n",
    "bacon"
   ]
  },
  {
   "cell_type": "code",
   "execution_count": 20,
   "id": "aadf541f",
   "metadata": {},
   "outputs": [],
   "source": [
    "bacon.append('gadhiya')"
   ]
  },
  {
   "cell_type": "code",
   "execution_count": 21,
   "id": "d8ae40a0",
   "metadata": {},
   "outputs": [
    {
     "data": {
      "text/plain": [
       "[3.14, 11, 'cat', 'gadhiya', True, 99, 'sunny', 'gadhiya']"
      ]
     },
     "execution_count": 21,
     "metadata": {},
     "output_type": "execute_result"
    }
   ],
   "source": [
    "bacon"
   ]
  },
  {
   "cell_type": "code",
   "execution_count": 22,
   "id": "2d17d5d3",
   "metadata": {},
   "outputs": [
    {
     "data": {
      "text/plain": [
       "[3.14, 11, 'cat', 'gadhiya', True, 99, 'sunny', 'gadhiya']"
      ]
     },
     "execution_count": 22,
     "metadata": {},
     "output_type": "execute_result"
    }
   ],
   "source": [
    "# And insert() Inserts the value before index for ex.\n",
    "bacon "
   ]
  },
  {
   "cell_type": "code",
   "execution_count": 18,
   "id": "809401fc",
   "metadata": {},
   "outputs": [],
   "source": [
    "bacon.insert(3 , 'gadhiya')"
   ]
  },
  {
   "cell_type": "code",
   "execution_count": 23,
   "id": "16b0519c",
   "metadata": {},
   "outputs": [
    {
     "data": {
      "text/plain": [
       "[3.14, 11, 'cat', 'gadhiya', True, 99, 'sunny', 'gadhiya']"
      ]
     },
     "execution_count": 23,
     "metadata": {},
     "output_type": "execute_result"
    }
   ],
   "source": [
    "bacon"
   ]
  },
  {
   "cell_type": "markdown",
   "id": "b4d31823",
   "metadata": {},
   "source": [
    "# Q10. What are the two methods for removing items from a list?\n",
    "\n",
    "# Ans :-"
   ]
  },
  {
   "cell_type": "code",
   "execution_count": 25,
   "id": "0dd1302d",
   "metadata": {},
   "outputs": [
    {
     "data": {
      "text/plain": [
       "[3.14, 11, 'cat', 'gadhiya', True, 99, 'sunny', 'gadhiya']"
      ]
     },
     "execution_count": 25,
     "metadata": {},
     "output_type": "execute_result"
    }
   ],
   "source": [
    "# First method is \n",
    "bacon"
   ]
  },
  {
   "cell_type": "code",
   "execution_count": 26,
   "id": "89c52043",
   "metadata": {},
   "outputs": [],
   "source": [
    "bacon.remove('gadhiya')"
   ]
  },
  {
   "cell_type": "code",
   "execution_count": 27,
   "id": "a422475a",
   "metadata": {},
   "outputs": [
    {
     "data": {
      "text/plain": [
       "[3.14, 11, 'cat', True, 99, 'sunny', 'gadhiya']"
      ]
     },
     "execution_count": 27,
     "metadata": {},
     "output_type": "execute_result"
    }
   ],
   "source": [
    "bacon"
   ]
  },
  {
   "cell_type": "code",
   "execution_count": 28,
   "id": "47aef52c",
   "metadata": {},
   "outputs": [
    {
     "data": {
      "text/plain": [
       "'gadhiya'"
      ]
     },
     "execution_count": 28,
     "metadata": {},
     "output_type": "execute_result"
    }
   ],
   "source": [
    "# Second method\n",
    "bacon.pop()"
   ]
  },
  {
   "cell_type": "code",
   "execution_count": 29,
   "id": "be4d13d7",
   "metadata": {},
   "outputs": [
    {
     "data": {
      "text/plain": [
       "[3.14, 11, 'cat', True, 99, 'sunny']"
      ]
     },
     "execution_count": 29,
     "metadata": {},
     "output_type": "execute_result"
    }
   ],
   "source": [
    "bacon"
   ]
  },
  {
   "cell_type": "markdown",
   "id": "fa8615a8",
   "metadata": {},
   "source": [
    "# Q12. Describe how list values and string values are identical.\n",
    "\n",
    "# Ans :- \n",
    "\n",
    "    Lists are similar to strings, which are ordered collections of characters, except that the elements of a     list can have any type and for any one list, the items can be of different types.\n",
    "    \n",
    "    Both list and string can be used in for loops, it can be concatenated and replicated, both can be passed in len().\n"
   ]
  },
  {
   "cell_type": "markdown",
   "id": "50c70f07",
   "metadata": {},
   "source": [
    "# Q13. What's the difference between tuples and lists?\n",
    "\n",
    "# Ans :- \n",
    "\n",
    "    Tuples are immutable entities, they are written using paranthesis () and we cannot change the values of     tuple.\n",
    "\n",
    "    List are mutable entities, it uses square bracket [], we can add , remove or change the value of list."
   ]
  },
  {
   "cell_type": "markdown",
   "id": "945e3fa1",
   "metadata": {},
   "source": [
    "# Q14. How do you type a tuple value that only contains the integer 42?\n",
    "\n",
    "# Ans :-"
   ]
  },
  {
   "cell_type": "code",
   "execution_count": 31,
   "id": "285350c0",
   "metadata": {},
   "outputs": [],
   "source": [
    "sunny = (42,)"
   ]
  },
  {
   "cell_type": "code",
   "execution_count": 32,
   "id": "1ad4b89a",
   "metadata": {},
   "outputs": [
    {
     "data": {
      "text/plain": [
       "(42,)"
      ]
     },
     "execution_count": 32,
     "metadata": {},
     "output_type": "execute_result"
    }
   ],
   "source": [
    "sunny"
   ]
  },
  {
   "cell_type": "markdown",
   "id": "3f754194",
   "metadata": {},
   "source": [
    "# Q15. How do you get a list value's tuple form? How do you get a tuple value's list form?\n",
    "\n",
    "# Ans :- "
   ]
  },
  {
   "cell_type": "code",
   "execution_count": 33,
   "id": "e5b08a4f",
   "metadata": {},
   "outputs": [
    {
     "data": {
      "text/plain": [
       "[3.14, 11, 'cat', True, 99, 'sunny']"
      ]
     },
     "execution_count": 33,
     "metadata": {},
     "output_type": "execute_result"
    }
   ],
   "source": [
    "bacon # Taking older values of bacon"
   ]
  },
  {
   "cell_type": "code",
   "execution_count": 34,
   "id": "cd655e3e",
   "metadata": {},
   "outputs": [],
   "source": [
    "s = tuple(bacon) # Using tuple function for convergen "
   ]
  },
  {
   "cell_type": "code",
   "execution_count": 35,
   "id": "836f323b",
   "metadata": {},
   "outputs": [
    {
     "data": {
      "text/plain": [
       "(3.14, 11, 'cat', True, 99, 'sunny')"
      ]
     },
     "execution_count": 35,
     "metadata": {},
     "output_type": "execute_result"
    }
   ],
   "source": [
    "s # Formed tuple"
   ]
  },
  {
   "cell_type": "code",
   "execution_count": 36,
   "id": "b51f24ee",
   "metadata": {},
   "outputs": [],
   "source": [
    "t = (1 , 2 , 3 , 4 , 5)"
   ]
  },
  {
   "cell_type": "code",
   "execution_count": 37,
   "id": "c85ed902",
   "metadata": {},
   "outputs": [],
   "source": [
    "s1 = list(t)"
   ]
  },
  {
   "cell_type": "code",
   "execution_count": 38,
   "id": "c48be3d6",
   "metadata": {},
   "outputs": [
    {
     "data": {
      "text/plain": [
       "[1, 2, 3, 4, 5]"
      ]
     },
     "execution_count": 38,
     "metadata": {},
     "output_type": "execute_result"
    }
   ],
   "source": [
    "s1 # Formed list"
   ]
  },
  {
   "cell_type": "markdown",
   "id": "5fd7cf07",
   "metadata": {},
   "source": [
    "# Q16. Variables that \"contain\" list values are not necessarily lists themselves. Instead, what do they contain?\n",
    "\n",
    "# Ans :-\n",
    "\n",
    "    They contains references to list values"
   ]
  },
  {
   "cell_type": "markdown",
   "id": "dcb1a0be",
   "metadata": {},
   "source": [
    "# Q17. How do you distinguish between copy.copy() and copy.deepcopy()?\n",
    "\n",
    "# Ans:- \n",
    "\n",
    "    The copy.copy() will do a shallow copy of list, while the copy.deepcopy() will do a deep copy of list only  copy.deepcopy() will duplicate any lists inside a list. \n",
    "    For ex."
   ]
  },
  {
   "cell_type": "code",
   "execution_count": 42,
   "id": "5449397a",
   "metadata": {},
   "outputs": [
    {
     "name": "stdout",
     "output_type": "stream",
     "text": [
      "old_list: [[1, 'sunny', 3], [4, 5, 6], [7, 8, 9]]\n",
      "new_list: [[1, 'sunny', 3], [4, 5, 6], [7, 8, 9]]\n"
     ]
    }
   ],
   "source": [
    "# Example of shallow copy\n",
    "import copy \n",
    "lst = [[1, 2, 3], [4, 5, 6], [7, 8, 9]]\n",
    "new_list = copy.copy(lst)\n",
    "lst[0][1] = 'sunny' # Using shallow copy can add the changes in both the list old list and new list as well\n",
    "print('old_list:' , lst)\n",
    "print('new_list:' , new_list )"
   ]
  },
  {
   "cell_type": "code",
   "execution_count": 43,
   "id": "ec0c3f7f",
   "metadata": {},
   "outputs": [
    {
     "name": "stdout",
     "output_type": "stream",
     "text": [
      "Old_list : [[1, 2, 3], [4, 5, 'sunny'], [7, 8, 9]]\n",
      "New_list : [[1, 2, 3], [4, 5, 6], [7, 8, 9]]\n"
     ]
    }
   ],
   "source": [
    "# Example of deep copy\n",
    "lst1 = [[1, 2, 3], [4, 5, 6], [7, 8, 9]]\n",
    "new_list1 = copy.deepcopy(lst1)\n",
    "lst1[1][2] = 'sunny'  # Using deep copy can add the changes in only the original list not in the new list \n",
    "print('Old_list :' , lst1)\n",
    "print('New_list :' , new_list1)"
   ]
  },
  {
   "cell_type": "code",
   "execution_count": null,
   "id": "42f0c2b5",
   "metadata": {},
   "outputs": [],
   "source": []
  }
 ],
 "metadata": {
  "kernelspec": {
   "display_name": "Python 3 (ipykernel)",
   "language": "python",
   "name": "python3"
  },
  "language_info": {
   "codemirror_mode": {
    "name": "ipython",
    "version": 3
   },
   "file_extension": ".py",
   "mimetype": "text/x-python",
   "name": "python",
   "nbconvert_exporter": "python",
   "pygments_lexer": "ipython3",
   "version": "3.9.7"
  },
  "varInspector": {
   "cols": {
    "lenName": 16,
    "lenType": 16,
    "lenVar": 40
   },
   "kernels_config": {
    "python": {
     "delete_cmd_postfix": "",
     "delete_cmd_prefix": "del ",
     "library": "var_list.py",
     "varRefreshCmd": "print(var_dic_list())"
    },
    "r": {
     "delete_cmd_postfix": ") ",
     "delete_cmd_prefix": "rm(",
     "library": "var_list.r",
     "varRefreshCmd": "cat(var_dic_list()) "
    }
   },
   "types_to_exclude": [
    "module",
    "function",
    "builtin_function_or_method",
    "instance",
    "_Feature"
   ],
   "window_display": false
  }
 },
 "nbformat": 4,
 "nbformat_minor": 5
}
