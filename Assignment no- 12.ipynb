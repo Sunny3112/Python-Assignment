{
 "cells": [
  {
   "cell_type": "markdown",
   "id": "93588ec1",
   "metadata": {},
   "source": [
    "# Q1. In what modes should the PdfFileReader() and PdfFileWriter() File objects will be opened?\n",
    "# Ans :-"
   ]
  },
  {
   "cell_type": "code",
   "execution_count": 1,
   "id": "76d45d7e",
   "metadata": {},
   "outputs": [
    {
     "name": "stdout",
     "output_type": "stream",
     "text": [
      "Collecting PyPDF2\n",
      "  Downloading pypdf2-3.0.1-py3-none-any.whl (232 kB)\n",
      "\u001b[K     |████████████████████████████████| 232 kB 3.8 MB/s eta 0:00:01\n",
      "\u001b[?25hRequirement already satisfied: typing_extensions>=3.10.0.0 in /Users/sunnygadhiya/opt/anaconda3/lib/python3.9/site-packages (from PyPDF2) (3.10.0.2)\n",
      "Installing collected packages: PyPDF2\n",
      "Successfully installed PyPDF2-3.0.1\n"
     ]
    }
   ],
   "source": [
    "!pip install PyPDF2"
   ]
  },
  {
   "cell_type": "markdown",
   "id": "b033a1de",
   "metadata": {},
   "source": [
    "# Q2. From a PdfFileReader object, how do you get a Page object for page 5?\n",
    "# Ans :- "
   ]
  },
  {
   "cell_type": "code",
   "execution_count": null,
   "id": "5c531477",
   "metadata": {},
   "outputs": [],
   "source": [
    "import PyPDF2 as pdf\n",
    "pdfFileObj = open(\"cardealer.pdf\",'rb')\n",
    "pdfReader = pdf.PdfFileReader(pdfFileObj)\n",
    "pageObj = pdfReader.getPage(4)\n",
    "pageObj.extractText()\n"
   ]
  },
  {
   "cell_type": "markdown",
   "id": "2160a735",
   "metadata": {},
   "source": [
    "# Q3. What PdfFileReader variable stores the number of pages in the PDF document?\n",
    "# Ans :- "
   ]
  },
  {
   "cell_type": "code",
   "execution_count": null,
   "id": "2abb3d6c",
   "metadata": {},
   "outputs": [],
   "source": [
    "import PyPDF2 as pdf\n",
    "pdfFileObj = open(\"cardealer.pdf\",'rb')\n",
    "pdfReader = pdf.PdfFileReader(pdfFileObj)\n",
    "pdfReader.numPages"
   ]
  },
  {
   "cell_type": "markdown",
   "id": "2945c8cb",
   "metadata": {},
   "source": [
    "# Q4. If a PdfFileReader object’s PDF is encrypted with the password swordfish, what must you do before you can obtain Page objects from it?\n",
    "# Ans :-"
   ]
  },
  {
   "cell_type": "markdown",
   "id": "6e8159db",
   "metadata": {},
   "source": [
    "Before we obtain the page object, the pdf has to be decrypted by calling .decrypt('swordfish')"
   ]
  },
  {
   "cell_type": "markdown",
   "id": "69b04af1",
   "metadata": {},
   "source": [
    "# Q5. What methods do you use to rotate a page?\n",
    "# Ans :- "
   ]
  },
  {
   "cell_type": "code",
   "execution_count": 5,
   "id": "4994c2b3",
   "metadata": {},
   "outputs": [],
   "source": [
    "#pageObj.rotateClockwise(180)\n",
    "\n",
    "#The rotateClockwise() and rotateCounterClockwise() methods. The degrees to rotate is passed as an integer argument"
   ]
  },
  {
   "cell_type": "markdown",
   "id": "8b2b5682",
   "metadata": {},
   "source": [
    "# Q6. What is the difference between a Run object and a Paragraph object?\n",
    "# Ans :- "
   ]
  },
  {
   "cell_type": "markdown",
   "id": "66ec0e07",
   "metadata": {},
   "source": [
    "Paragraph Object : A document contains multiple paragraphs. A paragraph begins on a new line and contains multiple\n",
    "runs. The Document object contains a list of Paragraph objects for the paragraphs in the document. (A new paragraph begins whenever the user presses ENTER or RETURN while typing in a Word document.)\n",
    "\n",
    "Run Objects : Runs are contiguous groups of characters within a paragraph with the same style\n",
    "\n"
   ]
  },
  {
   "cell_type": "markdown",
   "id": "33e3d2a3",
   "metadata": {},
   "source": [
    "# Q7. How do you obtain a list of Paragraph objects for a Document object that’s stored in a variable named doc?\n",
    "# Ans :-"
   ]
  },
  {
   "cell_type": "code",
   "execution_count": null,
   "id": "55a7e29e",
   "metadata": {},
   "outputs": [],
   "source": [
    "#!pip install python-docx\n",
    "import docx\n",
    "doc = docx.Document('abc.docx')\n",
    "doc.paragraphs\n",
    "#By using doc.paragraphs"
   ]
  },
  {
   "cell_type": "markdown",
   "id": "7781d4e5",
   "metadata": {},
   "source": [
    "# Q8. What type of object has bold, underline, italic, strike, and outline variables?\n",
    "# Ans :- "
   ]
  },
  {
   "cell_type": "markdown",
   "id": "d8f25089",
   "metadata": {},
   "source": [
    "A Run object has bold, underline,italic,strike and outline variables\n"
   ]
  },
  {
   "cell_type": "markdown",
   "id": "6119294f",
   "metadata": {},
   "source": [
    "# Q9. What is the difference between False, True, and None for the bold variable?\n",
    "# Ans :-"
   ]
  },
  {
   "cell_type": "markdown",
   "id": "83f8400b",
   "metadata": {},
   "source": [
    "Runs can be further styled using text attributes. Each attribute can be set to one of three values:\n",
    "True (the attribute is always enabled, no matter what other styles are applied to the run),\n",
    "False (the attribute is always disabled),\n",
    "None (defaults to whatever the run’s style is set to)\n",
    "\n",
    "True always makes the Run object bolded and False makes it always not bolded, no matter what the style’s bold setting is. None will make the Run object just use the style’s bold setting"
   ]
  },
  {
   "cell_type": "markdown",
   "id": "838fe1b6",
   "metadata": {},
   "source": [
    "# Q10. How do you create a Document object for a new Word document?\n",
    "# Ans :- "
   ]
  },
  {
   "cell_type": "markdown",
   "id": "49a87751",
   "metadata": {},
   "source": [
    "By Calling the docx.Document() function."
   ]
  },
  {
   "cell_type": "markdown",
   "id": "82400fee",
   "metadata": {},
   "source": [
    "# Q11. How do you add a paragraph with the text 'Hello, there!' to a Document object stored in a variable named doc?\n",
    "# Ans :-"
   ]
  },
  {
   "cell_type": "code",
   "execution_count": null,
   "id": "49f33249",
   "metadata": {},
   "outputs": [],
   "source": [
    "import docx\n",
    "doc = docx.Document()\n",
    "\n",
    "doc.add_paragraph('Hello there!')\n",
    "doc.save('hellothere.docx')\n"
   ]
  },
  {
   "cell_type": "markdown",
   "id": "3eb9e291",
   "metadata": {},
   "source": [
    "# Q12. What integers represent the levels of headings available in Word documents?\n",
    "# Ans :- "
   ]
  },
  {
   "cell_type": "markdown",
   "id": "e101a5dd",
   "metadata": {},
   "source": [
    "integer from 0 to 4\n",
    "The arguments to add_heading() are a string of the heading text and an integer from 0 to 4. The integer 0 makes the heading the Title style, which is used for the top of the document. Integers 1 to 4 are for various heading levels, with 1 being the main heading and 4 the lowest subheading\n"
   ]
  },
  {
   "cell_type": "code",
   "execution_count": null,
   "id": "a43ec951",
   "metadata": {},
   "outputs": [],
   "source": []
  }
 ],
 "metadata": {
  "kernelspec": {
   "display_name": "Python 3 (ipykernel)",
   "language": "python",
   "name": "python3"
  },
  "language_info": {
   "codemirror_mode": {
    "name": "ipython",
    "version": 3
   },
   "file_extension": ".py",
   "mimetype": "text/x-python",
   "name": "python",
   "nbconvert_exporter": "python",
   "pygments_lexer": "ipython3",
   "version": "3.9.7"
  },
  "varInspector": {
   "cols": {
    "lenName": 16,
    "lenType": 16,
    "lenVar": 40
   },
   "kernels_config": {
    "python": {
     "delete_cmd_postfix": "",
     "delete_cmd_prefix": "del ",
     "library": "var_list.py",
     "varRefreshCmd": "print(var_dic_list())"
    },
    "r": {
     "delete_cmd_postfix": ") ",
     "delete_cmd_prefix": "rm(",
     "library": "var_list.r",
     "varRefreshCmd": "cat(var_dic_list()) "
    }
   },
   "types_to_exclude": [
    "module",
    "function",
    "builtin_function_or_method",
    "instance",
    "_Feature"
   ],
   "window_display": false
  }
 },
 "nbformat": 4,
 "nbformat_minor": 5
}
