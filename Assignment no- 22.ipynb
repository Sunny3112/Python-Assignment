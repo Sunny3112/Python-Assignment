{
 "cells": [
  {
   "attachments": {},
   "cell_type": "markdown",
   "id": "04987b5b",
   "metadata": {},
   "source": [
    "# Q1. What is the result of the code, and explain?\n",
    "\n",
    "\n",
    ">>> X = 'iNeuron'\n",
    ">>> def func():\n",
    "print(X)\n",
    "\n",
    "\n",
    ">>> func()\n",
    "# Ans :-"
   ]
  },
  {
   "cell_type": "code",
   "execution_count": 1,
   "id": "9c782ed7",
   "metadata": {},
   "outputs": [
    {
     "name": "stdout",
     "output_type": "stream",
     "text": [
      "iNeuron\n"
     ]
    }
   ],
   "source": [
    "X = 'iNeuron'\n",
    "def func():\n",
    "    print(X)\n",
    "func()\n",
    "\n",
    "#Ans. The global variables are accessible in side the functions in python. \n",
    "#But we can not access function variable out side function. \n",
    "#Since x is global variable we are able to print it in side the function solution : 'iNeuron'"
   ]
  },
  {
   "cell_type": "markdown",
   "id": "dc90e41e",
   "metadata": {},
   "source": [
    "# Q2. What is the result of the code, and explain?\n",
    "\n",
    "\n",
    ">>> X = 'iNeuron'\n",
    ">>> def func():\n",
    "X = 'NI!'\n",
    "\n",
    "\n",
    ">>> func()\n",
    ">>> print(X)\n",
    "# Ans :-"
   ]
  },
  {
   "cell_type": "code",
   "execution_count": 2,
   "id": "29baf8cc",
   "metadata": {},
   "outputs": [
    {
     "name": "stdout",
     "output_type": "stream",
     "text": [
      "iNeuron\n"
     ]
    }
   ],
   "source": [
    "X = 'iNeuron'\n",
    "def func():\n",
    "    X = 'NI!'\n",
    "\n",
    "func()\n",
    "print(X)\n",
    "\n",
    "#Ans. The global variables are access in side the functions in python. But we can not access function variable out side function.\n",
    "# Since x is golbal variable we are able to print it out side of the function solution = 'iNeuron"
   ]
  },
  {
   "cell_type": "markdown",
   "id": "1351b6d1",
   "metadata": {},
   "source": [
    "# Q3. . What does this code print, and why?\n",
    "\n",
    "\n",
    ">>> X = 'iNeuron'\n",
    ">>> def func():\n",
    "X = 'NI'\n",
    "print(X)\n",
    "\n",
    "\n",
    ">>> func()\n",
    ">>> print(X)\n",
    "# Ans :- "
   ]
  },
  {
   "cell_type": "code",
   "execution_count": 3,
   "id": "1b0f1d0a",
   "metadata": {},
   "outputs": [
    {
     "name": "stdout",
     "output_type": "stream",
     "text": [
      "NI!\n",
      "iNeuron\n"
     ]
    }
   ],
   "source": [
    "X = 'iNeuron'\n",
    "def func():\n",
    "    X = 'NI!'\n",
    "    print(X)\n",
    "\n",
    "func()\n",
    "print(X)\n",
    "\n",
    "#Ans. The global variables are access in side the functions in python. But we can not access function variable out side function.\n",
    "# X is updated with 'NI' which is local to function and its immutable. its name space is with in the function solution"
   ]
  },
  {
   "cell_type": "markdown",
   "id": "c06293bf",
   "metadata": {},
   "source": [
    "# Q4. What output does this code produce? Why?\n",
    "\n",
    "\n",
    ">>> X = 'iNeuron'\n",
    ">>> def func():\n",
    "global X\n",
    "X = 'NI'\n",
    "\n",
    "\n",
    ">>> func()\n",
    ">>> print(X)\n",
    "# Ans :- "
   ]
  },
  {
   "cell_type": "code",
   "execution_count": 4,
   "id": "7be4fda6",
   "metadata": {},
   "outputs": [
    {
     "name": "stdout",
     "output_type": "stream",
     "text": [
      "NI!\n",
      "NI!\n"
     ]
    }
   ],
   "source": [
    "X = 'iNeuron'\n",
    "def func():\n",
    "    global X\n",
    "    X = 'NI!'\n",
    "    print(X)\n",
    "\n",
    "func()\n",
    "print(X)\n",
    "#Ans. since the X in side function is made Global, it will be accesible out side of the function too. \n",
    "#now X will have new value.\n",
    "\n",
    " #solution : 'NI!', 'NI!'"
   ]
  },
  {
   "cell_type": "markdown",
   "id": "3632e6b1",
   "metadata": {},
   "source": [
    "# Q5. What about this code—what’s the output, and why?\n",
    "\n",
    "\n",
    ">>> X = 'iNeuron'\n",
    ">>> def func():\n",
    "X = 'NI'\n",
    "def nested():\n",
    "print(X)\n",
    "nested()\n",
    "\n",
    "\n",
    ">>> func()\n",
    ">>> X\n",
    "# Ans :-"
   ]
  },
  {
   "cell_type": "code",
   "execution_count": 5,
   "id": "322a09f6",
   "metadata": {},
   "outputs": [
    {
     "name": "stdout",
     "output_type": "stream",
     "text": [
      "iNeuron\n"
     ]
    },
    {
     "data": {
      "text/plain": [
       "'iNeuron'"
      ]
     },
     "execution_count": 5,
     "metadata": {},
     "output_type": "execute_result"
    }
   ],
   "source": [
    "X = 'iNeuron'\n",
    "def func():\n",
    "    X = 'NI'\n",
    "def nested():\n",
    "    print(X)\n",
    "    \n",
    "nested()\n",
    "func()\n",
    "X\n",
    "\n",
    "#Ans. the nested() function will print 'iNeuron', Then func() does not display anything,\n",
    "# and x ='NI' is not accessible out \n",
    "#side the function.\n",
    "#Solution : 'iNeuron'\n"
   ]
  },
  {
   "cell_type": "markdown",
   "id": "cbabbe86",
   "metadata": {},
   "source": [
    "# Q6. How about this code: what is its output in Python 3, and explain?\n",
    "\n",
    "\n",
    ">>> def func():\n",
    "X = 'NI'\n",
    "def nested():\n",
    "nonlocal X\n",
    "X = 'Spam'\n",
    "nested()\n",
    "print(X)\n",
    "\n",
    "\n",
    ">>> func()\n",
    "# Ans :- "
   ]
  },
  {
   "cell_type": "code",
   "execution_count": 6,
   "id": "73af5a92",
   "metadata": {},
   "outputs": [
    {
     "name": "stdout",
     "output_type": "stream",
     "text": [
      "spam\n"
     ]
    }
   ],
   "source": [
    "def func():\n",
    "    X = 'NI'\n",
    "    def nested():\n",
    "        nonlocal X\n",
    "        X = 'spam'\n",
    "    nested()\n",
    "    print(X)\n",
    "\n",
    "func()\n",
    "\n",
    "#Nonlocal variables are used in nested functions whose local scope is not defined. \n",
    "#This means that the variable can be neither in the local nor the global scope. it print the updated value from nested \n",
    "#function\n",
    "\n",
    "#Sol : 'spam'\n"
   ]
  },
  {
   "cell_type": "code",
   "execution_count": null,
   "id": "c507c07d",
   "metadata": {},
   "outputs": [],
   "source": []
  }
 ],
 "metadata": {
  "kernelspec": {
   "display_name": "Python 3 (ipykernel)",
   "language": "python",
   "name": "python3"
  },
  "language_info": {
   "codemirror_mode": {
    "name": "ipython",
    "version": 3
   },
   "file_extension": ".py",
   "mimetype": "text/x-python",
   "name": "python",
   "nbconvert_exporter": "python",
   "pygments_lexer": "ipython3",
   "version": "3.9.7"
  },
  "varInspector": {
   "cols": {
    "lenName": 16,
    "lenType": 16,
    "lenVar": 40
   },
   "kernels_config": {
    "python": {
     "delete_cmd_postfix": "",
     "delete_cmd_prefix": "del ",
     "library": "var_list.py",
     "varRefreshCmd": "print(var_dic_list())"
    },
    "r": {
     "delete_cmd_postfix": ") ",
     "delete_cmd_prefix": "rm(",
     "library": "var_list.r",
     "varRefreshCmd": "cat(var_dic_list()) "
    }
   },
   "types_to_exclude": [
    "module",
    "function",
    "builtin_function_or_method",
    "instance",
    "_Feature"
   ],
   "window_display": false
  }
 },
 "nbformat": 4,
 "nbformat_minor": 5
}
