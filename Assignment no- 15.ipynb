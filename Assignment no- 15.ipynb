{
 "cells": [
  {
   "cell_type": "markdown",
   "id": "4a9710ce",
   "metadata": {},
   "source": [
    "# Q1. How many seconds are in an hour? Use the interactive interpreter as a calculator and multiply the number of seconds in a minute (60) by the number of minutes in an hour (also 60).\n",
    "sol. 60 \n",
    "# Ans :-"
   ]
  },
  {
   "cell_type": "code",
   "execution_count": 1,
   "id": "1a2d2a13",
   "metadata": {},
   "outputs": [
    {
     "data": {
      "text/plain": [
       "3600"
      ]
     },
     "execution_count": 1,
     "metadata": {},
     "output_type": "execute_result"
    }
   ],
   "source": [
    "60*60"
   ]
  },
  {
   "cell_type": "markdown",
   "id": "97a7ad5c",
   "metadata": {},
   "source": [
    "# Q2. Assign the result from the previous task (seconds in an hour) to a variable called seconds_per_hour.\n",
    "# Ans :-"
   ]
  },
  {
   "cell_type": "code",
   "execution_count": 2,
   "id": "f96aef4c",
   "metadata": {},
   "outputs": [
    {
     "data": {
      "text/plain": [
       "3600"
      ]
     },
     "execution_count": 2,
     "metadata": {},
     "output_type": "execute_result"
    }
   ],
   "source": [
    "seconds_per_hour = 60 * 60\n",
    "seconds_per_hour"
   ]
  },
  {
   "cell_type": "markdown",
   "id": "260d65d2",
   "metadata": {},
   "source": [
    "# Q3. How many seconds do you think there are in a day? Make use of the variables seconds per hour and minutes per hour.\n",
    "# Ans :- "
   ]
  },
  {
   "cell_type": "code",
   "execution_count": 3,
   "id": "74fc87bf",
   "metadata": {},
   "outputs": [
    {
     "data": {
      "text/plain": [
       "86400"
      ]
     },
     "execution_count": 3,
     "metadata": {},
     "output_type": "execute_result"
    }
   ],
   "source": [
    "one_day  = 24\n",
    "second_in_a_day = 24 * seconds_per_hour\n",
    "second_in_a_day"
   ]
  },
  {
   "cell_type": "markdown",
   "id": "0d51de7c",
   "metadata": {},
   "source": [
    "# Q4. Calculate seconds per day again, but this time save the result in a variable called seconds_per_day\n",
    "# Ans :- "
   ]
  },
  {
   "cell_type": "code",
   "execution_count": 4,
   "id": "31ed76bc",
   "metadata": {},
   "outputs": [
    {
     "data": {
      "text/plain": [
       "86400"
      ]
     },
     "execution_count": 4,
     "metadata": {},
     "output_type": "execute_result"
    }
   ],
   "source": [
    "seconds_per_day =  24 * seconds_per_hour\n",
    "seconds_per_day"
   ]
  },
  {
   "cell_type": "markdown",
   "id": "1f52cc21",
   "metadata": {},
   "source": [
    "# Q5. Divide seconds_per_day by seconds_per_hour. Use floating-point (/) division.\n",
    "# Ans :- "
   ]
  },
  {
   "cell_type": "code",
   "execution_count": 5,
   "id": "1424b773",
   "metadata": {},
   "outputs": [
    {
     "data": {
      "text/plain": [
       "24.0"
      ]
     },
     "execution_count": 5,
     "metadata": {},
     "output_type": "execute_result"
    }
   ],
   "source": [
    "seconds_per_day/seconds_per_hour"
   ]
  },
  {
   "cell_type": "markdown",
   "id": "1572a27f",
   "metadata": {},
   "source": [
    "# Q6. Divide seconds_per_day by seconds_per_hour, using integer (//) division. Did this number agree with the floating-point value from the previous question, aside from the final .0?\n",
    "# Ans :-"
   ]
  },
  {
   "cell_type": "code",
   "execution_count": 6,
   "id": "fd815f00",
   "metadata": {},
   "outputs": [
    {
     "data": {
      "text/plain": [
       "24"
      ]
     },
     "execution_count": 6,
     "metadata": {},
     "output_type": "execute_result"
    }
   ],
   "source": [
    "# YES this number agrees\n",
    "seconds_per_day // seconds_per_hour\n"
   ]
  },
  {
   "cell_type": "markdown",
   "id": "c96ad5b9",
   "metadata": {},
   "source": [
    "# Q7. Write a generator, genPrimes, that returns the sequence of prime numbers on successive calls to its next() method: 2, 3, 5, 7, 11, ...\n",
    "# Ans :-"
   ]
  },
  {
   "cell_type": "code",
   "execution_count": 7,
   "id": "6cd6e163",
   "metadata": {},
   "outputs": [],
   "source": [
    "def genPrimes():\n",
    "    n = 2\n",
    "    primes = []\n",
    "    while True:\n",
    "        for p in primes:\n",
    "            if n % p == 0:\n",
    "                break\n",
    "        else:\n",
    "            primes.append(n)\n",
    "            yield n\n",
    "        n += 1"
   ]
  },
  {
   "cell_type": "code",
   "execution_count": null,
   "id": "f73ba4b9",
   "metadata": {},
   "outputs": [],
   "source": []
  }
 ],
 "metadata": {
  "kernelspec": {
   "display_name": "Python 3 (ipykernel)",
   "language": "python",
   "name": "python3"
  },
  "language_info": {
   "codemirror_mode": {
    "name": "ipython",
    "version": 3
   },
   "file_extension": ".py",
   "mimetype": "text/x-python",
   "name": "python",
   "nbconvert_exporter": "python",
   "pygments_lexer": "ipython3",
   "version": "3.9.7"
  },
  "varInspector": {
   "cols": {
    "lenName": 16,
    "lenType": 16,
    "lenVar": 40
   },
   "kernels_config": {
    "python": {
     "delete_cmd_postfix": "",
     "delete_cmd_prefix": "del ",
     "library": "var_list.py",
     "varRefreshCmd": "print(var_dic_list())"
    },
    "r": {
     "delete_cmd_postfix": ") ",
     "delete_cmd_prefix": "rm(",
     "library": "var_list.r",
     "varRefreshCmd": "cat(var_dic_list()) "
    }
   },
   "types_to_exclude": [
    "module",
    "function",
    "builtin_function_or_method",
    "instance",
    "_Feature"
   ],
   "window_display": false
  }
 },
 "nbformat": 4,
 "nbformat_minor": 5
}
