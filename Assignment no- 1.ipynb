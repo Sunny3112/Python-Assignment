{
 "cells": [
  {
   "cell_type": "markdown",
   "id": "bf484350",
   "metadata": {},
   "source": [
    "# Q1. In the below elements which of them are values or an expression? eg:- values can be integer or string and expressions will be mathematical operators.\n",
    "\n",
    "# Ans :- \n",
    "* = Expression \n",
    "\n",
    "'hello' = String\n",
    "\n",
    "-87.5 = Float\n",
    "\n",
    "- = Expression\n",
    "\n",
    "/ = Expression\n",
    "\n",
    "+ = Expression\n",
    "\n",
    "6 = Int"
   ]
  },
  {
   "cell_type": "markdown",
   "id": "bb154f3e",
   "metadata": {},
   "source": [
    "# Q2. What is the difference between string and variable?\n",
    "\n",
    "# Ans :-\n",
    "\n",
    "String :\n",
    "\n",
    "    String is a data type, that we can use to fill up a variable. By declaring string to variable it makes it very useful to work with the strings in python.\n",
    "    eg :- 'My name is Sunny Sanjay Gadhiya' or it can also be use in double qoutes as well just as\n",
    "    \"My name is Sunny Sanjay Gadhiya\" . The use of single qoute or double quotes is a major identification of strings by which we come to know that the following data type is string.\n",
    "    \n",
    "Vairable :\n",
    "\n",
    "    Vairable is used to assign some kind of data to our systems, such as in other words variable is used to store a data in a system memory so that whenever we want to use the data we can call the variable.\n"
   ]
  },
  {
   "cell_type": "markdown",
   "id": "65e0eb22",
   "metadata": {},
   "source": [
    "# Q3. Describe three different data types.\n",
    "\n",
    "# Ans :-\n",
    "\n",
    "There are so many different data types that are available in python such as.\n",
    "1. Numeric type :-\n",
    "        Int : This type of data is represented as the numbers such whole numbers. \n",
    "        eg :- 1,2,3,4,5,6,7,8,etc\n",
    "        \n",
    "        Float : This type of data is represent in a Decimal format.\n",
    "        eg :- 1.2,2.4,9.9,55.43 , etc\n",
    "        \n",
    "        Complex : Complex data is represeneted in the form of real and imagnery numbers.\n",
    "        eg :- 9+9j, 3+6j , etc \n",
    "     \n",
    "2. Sequence type :-\n",
    "        List : A list is data structure in python that is a mutable , changeable , ordered sequence of elements. Each element or value that is inside a list is called item and it is denoted in square bracket [].\n",
    "        eg :- list = [1,2,3,'sunny',5+8j]\n",
    "        \n",
    "        Tuple : A tuple is a type of data structure which is inmutable , unchangeable , ordered. It allows diplicate values to it. it is denoted in round bracket ().\n",
    "        eg:- tupke = (1,2,3,4,'sunny',9+9j)\n",
    "        \n",
    "3. Mapping type :-\n",
    "        Dictionary : Dictionary is a type of data structure which is in key and value pair. Key are in any type of python but usually it is denoted as string or numbers and values on the other hand can be any arbitery python object.\n",
    "        eg :- {1 : [1,23,4,4,5,4] , \n",
    "               2 : (5,4,45,3,46)}"
   ]
  },
  {
   "cell_type": "markdown",
   "id": "8768d120",
   "metadata": {},
   "source": [
    "# Q4. What is an expression made up of? What do all expressions do?\n",
    "\n",
    "# Ans :-\n",
    "\n",
    "    Expressions are a Mathematical statements that have min of 2 terms containing numbers or variables , or both , connected by an operator in between \n",
    "    eg :- Addition = a+b\n",
    "          Subtraction = a-b\n",
    "          Multiplication = a*b\n",
    "          Divide = a/b\n",
    "          Floor division = a//b\n",
    "          Exponential Operator = a^b"
   ]
  },
  {
   "cell_type": "markdown",
   "id": "3090a041",
   "metadata": {},
   "source": [
    "# Q5. This assignment statements, like spam = 10. What is the difference between an expression and a statement?\n",
    "\n",
    "# Ans 1 :- \n",
    "\n",
    "Spam = 10 It is a kind of variable that stores the value of 10 in memory. \n",
    "\n",
    "\n",
    "# Ans 2 :- \n",
    "\n",
    "An Expression always evaluates to a value. And, A statement does something, like creating a variable or displaying a value, it only does whatever the statement says."
   ]
  },
  {
   "cell_type": "markdown",
   "id": "e51d5c0b",
   "metadata": {},
   "source": [
    "# Q6. After running the following code, what does the variable bacon contain?\n",
    "    bacon = 22\n",
    "    bacon + 1\n",
    "\n"
   ]
  },
  {
   "cell_type": "markdown",
   "id": "85477620",
   "metadata": {},
   "source": [
    "# Ans :- "
   ]
  },
  {
   "cell_type": "code",
   "execution_count": 6,
   "id": "1bf1dffc",
   "metadata": {},
   "outputs": [
    {
     "data": {
      "text/plain": [
       "23"
      ]
     },
     "execution_count": 6,
     "metadata": {},
     "output_type": "execute_result"
    }
   ],
   "source": [
    "bacon = 22\n",
    "bacon +1\n",
    "#bacon as variable stores the value of 22 in its memory which is a int value and after running the code\n",
    "# the value become bacon = 23"
   ]
  },
  {
   "cell_type": "markdown",
   "id": "035bf3d2",
   "metadata": {},
   "source": [
    "# Q7. What should the values of the following two terms be?\n",
    "    'spam' + 'spamspam'\n",
    "    'spam' * 3"
   ]
  },
  {
   "cell_type": "markdown",
   "id": "1306156b",
   "metadata": {},
   "source": [
    "# Ans :- "
   ]
  },
  {
   "cell_type": "code",
   "execution_count": 3,
   "id": "c25d2adf",
   "metadata": {},
   "outputs": [
    {
     "data": {
      "text/plain": [
       "'spamspamspam'"
      ]
     },
     "execution_count": 3,
     "metadata": {},
     "output_type": "execute_result"
    }
   ],
   "source": [
    "'spam' + 'spamspam'"
   ]
  },
  {
   "cell_type": "code",
   "execution_count": 5,
   "id": "468c0eae",
   "metadata": {},
   "outputs": [
    {
     "data": {
      "text/plain": [
       "'spamspamspam'"
      ]
     },
     "execution_count": 5,
     "metadata": {},
     "output_type": "execute_result"
    }
   ],
   "source": [
    "'spam' * 3\n",
    "# As you have seen in the output of the both the terms the values of the both the terms are \n",
    "# same as 'spamspamspam' so it means if you are adding the 2 string or multiply the single string the\n",
    "# output will be same. "
   ]
  },
  {
   "cell_type": "markdown",
   "id": "818fde28",
   "metadata": {},
   "source": [
    "# Q8. Why is eggs a valid variable name while 100 is invalid?\n",
    "\n",
    "# Ans :-\n",
    "\n",
    "    Because variable names cannot begin with a number."
   ]
  },
  {
   "cell_type": "markdown",
   "id": "6658dfc8",
   "metadata": {},
   "source": [
    "# Q9. What three functions can be used to get the integer, floating-point number, or string version of a value?\n",
    "\n",
    "# Ans :-\n",
    "\n",
    "The int() , float() , and str( ) functions will evaluate to the integer, floating-point number, and string versions of the value passed to them."
   ]
  },
  {
   "cell_type": "markdown",
   "id": "99b88d41",
   "metadata": {},
   "source": [
    "# Q10. Why does this expression cause an error? How can you fix it?\n",
    "'I have eaten ' + 99 + ' burritos.'"
   ]
  },
  {
   "cell_type": "markdown",
   "id": "5baeaaab",
   "metadata": {},
   "source": [
    "# Ans :-"
   ]
  },
  {
   "cell_type": "code",
   "execution_count": 7,
   "id": "33ed1b23",
   "metadata": {},
   "outputs": [
    {
     "ename": "TypeError",
     "evalue": "can only concatenate str (not \"int\") to str",
     "output_type": "error",
     "traceback": [
      "\u001b[0;31m---------------------------------------------------------------------------\u001b[0m",
      "\u001b[0;31mTypeError\u001b[0m                                 Traceback (most recent call last)",
      "\u001b[0;32m/var/folders/xn/h2374fms1gv8xwtps_vftzwh0000gn/T/ipykernel_36784/1774935878.py\u001b[0m in \u001b[0;36m<module>\u001b[0;34m\u001b[0m\n\u001b[0;32m----> 1\u001b[0;31m \u001b[0;34m'I have eaten '\u001b[0m \u001b[0;34m+\u001b[0m \u001b[0;36m99\u001b[0m \u001b[0;34m+\u001b[0m \u001b[0;34m' burritos.'\u001b[0m\u001b[0;34m\u001b[0m\u001b[0;34m\u001b[0m\u001b[0m\n\u001b[0m",
      "\u001b[0;31mTypeError\u001b[0m: can only concatenate str (not \"int\") to str"
     ]
    }
   ],
   "source": [
    "'I have eaten ' + 99 + ' burritos.'"
   ]
  },
  {
   "cell_type": "code",
   "execution_count": 8,
   "id": "a86088cf",
   "metadata": {},
   "outputs": [
    {
     "data": {
      "text/plain": [
       "'I have eaten 99 burritos.'"
      ]
     },
     "execution_count": 8,
     "metadata": {},
     "output_type": "execute_result"
    }
   ],
   "source": [
    "'I have eaten ' + str(99) + ' burritos.'\n",
    "# String concatenation can be done between strings \\, here 99 is an int value so by using the str(99)\n",
    "# we convert int value to string value and the code is run. "
   ]
  },
  {
   "cell_type": "code",
   "execution_count": null,
   "id": "e87dec3b",
   "metadata": {},
   "outputs": [],
   "source": []
  },
  {
   "cell_type": "code",
   "execution_count": null,
   "id": "09ff0334",
   "metadata": {},
   "outputs": [],
   "source": []
  }
 ],
 "metadata": {
  "kernelspec": {
   "display_name": "Python 3 (ipykernel)",
   "language": "python",
   "name": "python3"
  },
  "language_info": {
   "codemirror_mode": {
    "name": "ipython",
    "version": 3
   },
   "file_extension": ".py",
   "mimetype": "text/x-python",
   "name": "python",
   "nbconvert_exporter": "python",
   "pygments_lexer": "ipython3",
   "version": "3.9.7"
  },
  "varInspector": {
   "cols": {
    "lenName": 16,
    "lenType": 16,
    "lenVar": 40
   },
   "kernels_config": {
    "python": {
     "delete_cmd_postfix": "",
     "delete_cmd_prefix": "del ",
     "library": "var_list.py",
     "varRefreshCmd": "print(var_dic_list())"
    },
    "r": {
     "delete_cmd_postfix": ") ",
     "delete_cmd_prefix": "rm(",
     "library": "var_list.r",
     "varRefreshCmd": "cat(var_dic_list()) "
    }
   },
   "types_to_exclude": [
    "module",
    "function",
    "builtin_function_or_method",
    "instance",
    "_Feature"
   ],
   "window_display": false
  }
 },
 "nbformat": 4,
 "nbformat_minor": 5
}
