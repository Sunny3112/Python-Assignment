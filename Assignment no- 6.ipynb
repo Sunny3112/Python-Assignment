{
 "cells": [
  {
   "cell_type": "markdown",
   "id": "f7f23db1",
   "metadata": {},
   "source": [
    "# Q1. What are escape characters, and how do you use them?\n",
    "\n",
    "# Ans :- \n",
    "\n",
    "    Escape characters are used in which the characters are illegal to insert in a string. An escape       character is a \\ (backslash) to insert. For ex "
   ]
  },
  {
   "cell_type": "code",
   "execution_count": 1,
   "id": "fa52c78f",
   "metadata": {},
   "outputs": [
    {
     "ename": "SyntaxError",
     "evalue": "invalid syntax (659554123.py, line 1)",
     "output_type": "error",
     "traceback": [
      "\u001b[0;36m  File \u001b[0;32m\"/var/folders/xn/h2374fms1gv8xwtps_vftzwh0000gn/T/ipykernel_24103/659554123.py\"\u001b[0;36m, line \u001b[0;32m1\u001b[0m\n\u001b[0;31m    s = \"My name is \"Sunny Gadhiya\" i am from Aurangabad\u001b[0m\n\u001b[0m                     ^\u001b[0m\n\u001b[0;31mSyntaxError\u001b[0m\u001b[0;31m:\u001b[0m invalid syntax\n"
     ]
    }
   ],
   "source": [
    "s = \"My name is \"Sunny Gadhiya\" i am from Aurangabad"
   ]
  },
  {
   "cell_type": "code",
   "execution_count": 3,
   "id": "2e7c877a",
   "metadata": {},
   "outputs": [
    {
     "data": {
      "text/plain": [
       "'My name is \"Sunny Gadhiya\" i am from Aurangabad'"
      ]
     },
     "execution_count": 3,
     "metadata": {},
     "output_type": "execute_result"
    }
   ],
   "source": [
    "# as we can see in the above string the double qoute for \"sunny gadhiya\" is not giving the output so we are going to use backslash\n",
    "\n",
    "s = \"My name is \\\"Sunny Gadhiya\\\" i am from Aurangabad\"\n",
    "s"
   ]
  },
  {
   "cell_type": "code",
   "execution_count": 4,
   "id": "5692f085",
   "metadata": {},
   "outputs": [
    {
     "ename": "SyntaxError",
     "evalue": "invalid syntax (3480641006.py, line 4)",
     "output_type": "error",
     "traceback": [
      "\u001b[0;36m  File \u001b[0;32m\"/var/folders/xn/h2374fms1gv8xwtps_vftzwh0000gn/T/ipykernel_24103/3480641006.py\"\u001b[0;36m, line \u001b[0;32m4\u001b[0m\n\u001b[0;31m    s = 'Hey it's me\u001b[0m\n\u001b[0m                ^\u001b[0m\n\u001b[0;31mSyntaxError\u001b[0m\u001b[0;31m:\u001b[0m invalid syntax\n"
     ]
    }
   ],
   "source": [
    "# Other escape characters are\n",
    "# \\' = single code\n",
    "\n",
    "s = 'Hey it's me "
   ]
  },
  {
   "cell_type": "code",
   "execution_count": 8,
   "id": "7c9026d2",
   "metadata": {},
   "outputs": [
    {
     "data": {
      "text/plain": [
       "\"Hey it's me\""
      ]
     },
     "execution_count": 8,
     "metadata": {},
     "output_type": "execute_result"
    }
   ],
   "source": [
    "s = 'Hey it\\'s me'\n",
    "s"
   ]
  },
  {
   "cell_type": "markdown",
   "id": "e12c67be",
   "metadata": {},
   "source": [
    "    \\\\ Backslash \n",
    "    \\n New line \n",
    "    \\r Carriage Return \n",
    "    \\t Tab\n",
    "    \\b Backspace\n",
    "    \\f From Feed\n",
    "    \\ooo Octal Value\n",
    "    \\xhh Hex Value\n"
   ]
  },
  {
   "cell_type": "markdown",
   "id": "643aabe5",
   "metadata": {},
   "source": [
    "# Q2. What do the escape characters n and t stand for?\n",
    "\n",
    "# Ans :- \n",
    "\n",
    "    n stand for new line, \n",
    "    t stand for tab.  "
   ]
  },
  {
   "cell_type": "code",
   "execution_count": 3,
   "id": "a0076e36",
   "metadata": {},
   "outputs": [
    {
     "name": "stdout",
     "output_type": "stream",
     "text": [
      "hey\n",
      "there!\n"
     ]
    }
   ],
   "source": [
    "# Example for \\n\n",
    "s = \"hey\\nthere!\"\n",
    "print(s)"
   ]
  },
  {
   "cell_type": "code",
   "execution_count": 5,
   "id": "87c096aa",
   "metadata": {},
   "outputs": [
    {
     "name": "stdout",
     "output_type": "stream",
     "text": [
      "hey\t there\n"
     ]
    }
   ],
   "source": [
    "# Example for \\t\n",
    "s = 'hey\\t there'\n",
    "print(s)"
   ]
  },
  {
   "cell_type": "markdown",
   "id": "0c0f9cf8",
   "metadata": {},
   "source": [
    "# Q3. What is the way to include backslash characters in a string?\n",
    "\n",
    "# Ans :-"
   ]
  },
  {
   "cell_type": "code",
   "execution_count": 6,
   "id": "95abc31e",
   "metadata": {},
   "outputs": [
    {
     "name": "stdout",
     "output_type": "stream",
     "text": [
      "one \\ two\n"
     ]
    }
   ],
   "source": [
    "# these way we can use the backslash \n",
    "s = \"one \\\\ two\"\n",
    "print(s)"
   ]
  },
  {
   "cell_type": "markdown",
   "id": "5a1c7935",
   "metadata": {},
   "source": [
    "# Q4. The string \"Howl's Moving Castle\" is a correct value. Why isn't the single quote character in the word Howl's not escaped a problem?\n",
    "\n",
    "# Ans :- "
   ]
  },
  {
   "cell_type": "code",
   "execution_count": 7,
   "id": "0e45551f",
   "metadata": {},
   "outputs": [
    {
     "data": {
      "text/plain": [
       "\"Howl's Moving Castle\""
      ]
     },
     "execution_count": 7,
     "metadata": {},
     "output_type": "execute_result"
    }
   ],
   "source": [
    "s = \"Howl's Moving Castle\"\n",
    "s"
   ]
  },
  {
   "cell_type": "markdown",
   "id": "5ecd8667",
   "metadata": {},
   "source": [
    "    In the above string the single quote n howl's is fine because the starting and ending of the string is from double qoute."
   ]
  },
  {
   "cell_type": "markdown",
   "id": "7c2ca30e",
   "metadata": {},
   "source": [
    "# Q5. How do you write a string of newlines if you don't want to use the n character?\n",
    "\n",
    "# Ans :- "
   ]
  },
  {
   "cell_type": "code",
   "execution_count": 15,
   "id": "b985ae23",
   "metadata": {},
   "outputs": [
    {
     "name": "stdout",
     "output_type": "stream",
     "text": [
      "hey\n",
      "there\n"
     ]
    }
   ],
   "source": [
    "# If we don't want to use the n character for new line we can also use \n",
    "print(\"hey\")\n",
    "print(\"there\")"
   ]
  },
  {
   "cell_type": "markdown",
   "id": "6209ebb1",
   "metadata": {},
   "source": [
    "    We can use multiple print option for printing the string or values in new line as we can see above    examples."
   ]
  },
  {
   "cell_type": "markdown",
   "id": "f6c683ec",
   "metadata": {},
   "source": [
    "# Q6. What are the values of the given expressions?\n",
    "    'Hello, world!'[1]\n",
    "    'Hello, world!'[0:5]\n",
    "    'Hello, world!'[:5]\n",
    "    'Hello, world!'[3:]\n",
    "\n",
    "# Ans :-"
   ]
  },
  {
   "cell_type": "code",
   "execution_count": 16,
   "id": "a1a10298",
   "metadata": {},
   "outputs": [
    {
     "data": {
      "text/plain": [
       "'e'"
      ]
     },
     "execution_count": 16,
     "metadata": {},
     "output_type": "execute_result"
    }
   ],
   "source": [
    "'Hello, world!'[1]"
   ]
  },
  {
   "cell_type": "code",
   "execution_count": 17,
   "id": "119348cb",
   "metadata": {},
   "outputs": [
    {
     "data": {
      "text/plain": [
       "'Hello'"
      ]
     },
     "execution_count": 17,
     "metadata": {},
     "output_type": "execute_result"
    }
   ],
   "source": [
    "'Hello, world!'[0:5]"
   ]
  },
  {
   "cell_type": "code",
   "execution_count": 18,
   "id": "e4eef622",
   "metadata": {},
   "outputs": [
    {
     "data": {
      "text/plain": [
       "'Hello'"
      ]
     },
     "execution_count": 18,
     "metadata": {},
     "output_type": "execute_result"
    }
   ],
   "source": [
    "'Hello, world!'[:5]"
   ]
  },
  {
   "cell_type": "code",
   "execution_count": 19,
   "id": "e206b310",
   "metadata": {},
   "outputs": [
    {
     "data": {
      "text/plain": [
       "'lo, world!'"
      ]
     },
     "execution_count": 19,
     "metadata": {},
     "output_type": "execute_result"
    }
   ],
   "source": [
    "'Hello, world!'[3:]"
   ]
  },
  {
   "cell_type": "markdown",
   "id": "e78e30bf",
   "metadata": {},
   "source": [
    "    The above output is given due to the function we are passing in the square bracket[] they are actually the index and the output is the value aviable to that index. "
   ]
  },
  {
   "cell_type": "markdown",
   "id": "022930fa",
   "metadata": {},
   "source": [
    "# Q7. What are the values of the following expressions?\n",
    "    'Hello'.upper()\n",
    "    'Hello'.upper().isupper()\n",
    "    'Hello'.upper().lower()\n",
    "\n",
    "# Ans :-"
   ]
  },
  {
   "cell_type": "code",
   "execution_count": 20,
   "id": "b7f56f34",
   "metadata": {},
   "outputs": [
    {
     "data": {
      "text/plain": [
       "'HELLO'"
      ]
     },
     "execution_count": 20,
     "metadata": {},
     "output_type": "execute_result"
    }
   ],
   "source": [
    "'Hello'.upper()"
   ]
  },
  {
   "cell_type": "code",
   "execution_count": 21,
   "id": "23fb0cb6",
   "metadata": {},
   "outputs": [
    {
     "data": {
      "text/plain": [
       "True"
      ]
     },
     "execution_count": 21,
     "metadata": {},
     "output_type": "execute_result"
    }
   ],
   "source": [
    "'Hello'.upper().isupper()"
   ]
  },
  {
   "cell_type": "code",
   "execution_count": 22,
   "id": "01a46947",
   "metadata": {},
   "outputs": [
    {
     "data": {
      "text/plain": [
       "'hello'"
      ]
     },
     "execution_count": 22,
     "metadata": {},
     "output_type": "execute_result"
    }
   ],
   "source": [
    "'Hello'.upper().lower()"
   ]
  },
  {
   "cell_type": "markdown",
   "id": "e814b163",
   "metadata": {},
   "source": [
    "    The .upper() is the function for creating the whole string in upper case.\n",
    "    .upper().isupper() is actually for checking the string is in upper casse or not so therefore it is    giving the output as True.\n",
    "    .lower() is the function for creating the whole string in lower case."
   ]
  },
  {
   "cell_type": "markdown",
   "id": "7595fcbb",
   "metadata": {},
   "source": [
    "# Q8. What are the values of the following expressions?\n",
    "    'Remember, remember, the fifth of July.'.split()\n",
    "    '-'.join('There can only one.'.split())\n",
    "\n",
    "# Ans :-"
   ]
  },
  {
   "cell_type": "code",
   "execution_count": 24,
   "id": "15cfa2ae",
   "metadata": {},
   "outputs": [
    {
     "data": {
      "text/plain": [
       "['Remeber,', 'remeber,', 'the', 'fifth', 'of', 'July.']"
      ]
     },
     "execution_count": 24,
     "metadata": {},
     "output_type": "execute_result"
    }
   ],
   "source": [
    "'Remeber, remeber, the fifth of July.' .split() # It splits the whole string by using .split() "
   ]
  },
  {
   "cell_type": "code",
   "execution_count": 26,
   "id": "52f93ad6",
   "metadata": {},
   "outputs": [
    {
     "data": {
      "text/plain": [
       "'There-can-only-one'"
      ]
     },
     "execution_count": 26,
     "metadata": {},
     "output_type": "execute_result"
    }
   ],
   "source": [
    "'-'.join('There can only one'.split()) # It joins the string using '-'"
   ]
  },
  {
   "cell_type": "markdown",
   "id": "311976df",
   "metadata": {},
   "source": [
    "# Q9. What are the methods for right-justifying, left-justifying, and centering a string?\n",
    "\n",
    "# Ans :- "
   ]
  },
  {
   "cell_type": "code",
   "execution_count": 31,
   "id": "ce874254",
   "metadata": {},
   "outputs": [
    {
     "data": {
      "text/plain": [
       "'----My name is Sunny'"
      ]
     },
     "execution_count": 31,
     "metadata": {},
     "output_type": "execute_result"
    }
   ],
   "source": [
    "# right justifying \n",
    "s = \"My name is Sunny\"\n",
    "s.rjust(20,'-')\n",
    "# The right justifying actually justifies the width of string from left to right"
   ]
  },
  {
   "cell_type": "code",
   "execution_count": 36,
   "id": "e6bbd4e4",
   "metadata": {},
   "outputs": [
    {
     "data": {
      "text/plain": [
       "'Today is a good day------'"
      ]
     },
     "execution_count": 36,
     "metadata": {},
     "output_type": "execute_result"
    }
   ],
   "source": [
    "# left justifying\n",
    "s = \"Today is a good day\"\n",
    "s.ljust(25,'-')\n",
    "# The left justifying actually justifies the width of string from right to left"
   ]
  },
  {
   "cell_type": "code",
   "execution_count": 34,
   "id": "3ffabe6f",
   "metadata": {},
   "outputs": [
    {
     "data": {
      "text/plain": [
       "'--Sunny---'"
      ]
     },
     "execution_count": 34,
     "metadata": {},
     "output_type": "execute_result"
    }
   ],
   "source": [
    "# center justfying \n",
    "s = \"Sunny\"\n",
    "s.center(10,'-')"
   ]
  },
  {
   "cell_type": "markdown",
   "id": "7f5e9161",
   "metadata": {},
   "source": [
    "# Q10. What is the best way to remove whitespace characters from the start or end?\n",
    "\n",
    "# Ans :-"
   ]
  },
  {
   "cell_type": "code",
   "execution_count": 38,
   "id": "524df620",
   "metadata": {},
   "outputs": [
    {
     "data": {
      "text/plain": [
       "'Sunny Gadhiya   '"
      ]
     },
     "execution_count": 38,
     "metadata": {},
     "output_type": "execute_result"
    }
   ],
   "source": [
    "# The best way to remove the whitespace characters are\n",
    "s = '    Sunny Gadhiya   '\n",
    "s.lstrip()"
   ]
  },
  {
   "cell_type": "code",
   "execution_count": 39,
   "id": "0e01bf76",
   "metadata": {},
   "outputs": [
    {
     "data": {
      "text/plain": [
       "'    Sunny Gadhiya'"
      ]
     },
     "execution_count": 39,
     "metadata": {},
     "output_type": "execute_result"
    }
   ],
   "source": [
    "s = '    Sunny Gadhiya   '\n",
    "s.rstrip()"
   ]
  },
  {
   "cell_type": "code",
   "execution_count": null,
   "id": "55aa3366",
   "metadata": {},
   "outputs": [],
   "source": []
  }
 ],
 "metadata": {
  "kernelspec": {
   "display_name": "Python 3 (ipykernel)",
   "language": "python",
   "name": "python3"
  },
  "language_info": {
   "codemirror_mode": {
    "name": "ipython",
    "version": 3
   },
   "file_extension": ".py",
   "mimetype": "text/x-python",
   "name": "python",
   "nbconvert_exporter": "python",
   "pygments_lexer": "ipython3",
   "version": "3.9.7"
  },
  "varInspector": {
   "cols": {
    "lenName": 16,
    "lenType": 16,
    "lenVar": 40
   },
   "kernels_config": {
    "python": {
     "delete_cmd_postfix": "",
     "delete_cmd_prefix": "del ",
     "library": "var_list.py",
     "varRefreshCmd": "print(var_dic_list())"
    },
    "r": {
     "delete_cmd_postfix": ") ",
     "delete_cmd_prefix": "rm(",
     "library": "var_list.r",
     "varRefreshCmd": "cat(var_dic_list()) "
    }
   },
   "types_to_exclude": [
    "module",
    "function",
    "builtin_function_or_method",
    "instance",
    "_Feature"
   ],
   "window_display": false
  }
 },
 "nbformat": 4,
 "nbformat_minor": 5
}
