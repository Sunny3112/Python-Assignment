{
 "cells": [
  {
   "cell_type": "markdown",
   "id": "5d461d53",
   "metadata": {},
   "source": [
    "# Q1. What are the two values of the Boolean data type? How do you write them?\n",
    "\n",
    "# Ans :-\n",
    "\n",
    "    It has two possible values: true and false . Bool is not interchangeable with Int and must be converted     explicitly if needed. When a Boolean value of an expression is needed (for example in an if statement), the Bool method is called."
   ]
  },
  {
   "cell_type": "markdown",
   "id": "25e968a7",
   "metadata": {},
   "source": [
    "# Q2. What are the three different types of Boolean operators?\n",
    "\n",
    "# Ans :-\n",
    "\n",
    "    There are three logical operators that are used to compare values. They evalute expressions down to Boolean values, returning either True or False. These operators are and, or and not.\n",
    "    \n",
    "    eg :- \n",
    "    and = True if both are true = x and y\n",
    "    or = True if at least one is true = x or y\n",
    "    not = True only if false = not x\n"
   ]
  },
  {
   "cell_type": "markdown",
   "id": "489f1228",
   "metadata": {},
   "source": [
    "# Q3. Make a list of each Boolean operator's truth tables (i.e. every possible combination of Boolean values for the operator and what it evaluate ).\n",
    "\n",
    "# Ans :- \n"
   ]
  },
  {
   "cell_type": "markdown",
   "id": "c19a040b",
   "metadata": {},
   "source": [
    "| Operator | | Name |\n",
    "|----------| |------|\n",
    "|==|         |equal to|\n",
    "|!=|         |not equal to|\n",
    "|<|          |less than|\n",
    "|<=|         |less than or equal to|\n",
    "|>|          |greater than|\n",
    "|=>|         |greater than or equal to|"
   ]
  },
  {
   "cell_type": "markdown",
   "id": "be2ac1dd",
   "metadata": {},
   "source": [
    "# Q4. What are the values of the following expressions?\n",
    "    (5 > 4) and (3 == 5)\n",
    "    not (5 > 4)\n",
    "    (5 > 4) or (3 == 5)\n",
    "    not ((5 > 4) or (3 == 5))\n",
    "    (True and True) and (True == False)\n",
    "    (not False) or (not True)\n",
    "\n",
    "# Ans :- "
   ]
  },
  {
   "cell_type": "code",
   "execution_count": 2,
   "id": "3cd536c5",
   "metadata": {},
   "outputs": [
    {
     "data": {
      "text/plain": [
       "False"
      ]
     },
     "execution_count": 2,
     "metadata": {},
     "output_type": "execute_result"
    }
   ],
   "source": [
    "(5 > 4) and ( 3 == 5)"
   ]
  },
  {
   "cell_type": "code",
   "execution_count": 3,
   "id": "eeb10b74",
   "metadata": {},
   "outputs": [
    {
     "data": {
      "text/plain": [
       "False"
      ]
     },
     "execution_count": 3,
     "metadata": {},
     "output_type": "execute_result"
    }
   ],
   "source": [
    "not ( 5 > 4)"
   ]
  },
  {
   "cell_type": "code",
   "execution_count": 4,
   "id": "019f820b",
   "metadata": {},
   "outputs": [
    {
     "data": {
      "text/plain": [
       "True"
      ]
     },
     "execution_count": 4,
     "metadata": {},
     "output_type": "execute_result"
    }
   ],
   "source": [
    "(5 > 4) or (3 == 5)"
   ]
  },
  {
   "cell_type": "code",
   "execution_count": 5,
   "id": "919046d9",
   "metadata": {},
   "outputs": [
    {
     "data": {
      "text/plain": [
       "False"
      ]
     },
     "execution_count": 5,
     "metadata": {},
     "output_type": "execute_result"
    }
   ],
   "source": [
    "not ((5 > 4) or (3 == 5))"
   ]
  },
  {
   "cell_type": "code",
   "execution_count": 6,
   "id": "0cdaadc9",
   "metadata": {},
   "outputs": [
    {
     "data": {
      "text/plain": [
       "False"
      ]
     },
     "execution_count": 6,
     "metadata": {},
     "output_type": "execute_result"
    }
   ],
   "source": [
    "(True and True) and (True == False)"
   ]
  },
  {
   "cell_type": "code",
   "execution_count": 7,
   "id": "f55f9586",
   "metadata": {},
   "outputs": [
    {
     "data": {
      "text/plain": [
       "True"
      ]
     },
     "execution_count": 7,
     "metadata": {},
     "output_type": "execute_result"
    }
   ],
   "source": [
    "(not False) or (not True)"
   ]
  },
  {
   "cell_type": "markdown",
   "id": "51b8b41c",
   "metadata": {},
   "source": [
    "# Q5. What are the six comparison operators?\n",
    "\n",
    "# Ans :-\n",
    "\n",
    "    A comparison operator returns a boolean value, either True or False, python has six comparison operator:     less than (<), less than or equal to (<=), greater than (>), greater than or equal to (=>), equal to (==), not equal to (!=)."
   ]
  },
  {
   "cell_type": "markdown",
   "id": "4f343a98",
   "metadata": {},
   "source": [
    "# Q6. How do you tell the difference between the equal to and assignment operators?Describe a condition and when you would use one.\n",
    "\n",
    "# Ans :- \n",
    "\n",
    "    The “=” is an assignment operator is used to assign the value on the right to the variable on the left. The '==' operator checks whether the two given operands are equal or not. If so, it returns true. Otherwise it returns false.\n",
    "    eg :- \"=\" is used to assign a value \n",
    "    list = [35,25,45,\"sunny\",4+7j] \n",
    "    eg :- \"==\" operator check\n",
    "    5 == 5 it will return the output as true\n",
    "    5 != 5 it will retrun the output as false"
   ]
  },
  {
   "cell_type": "markdown",
   "id": "210c7679",
   "metadata": {},
   "source": [
    "# Q7. Identify the three blocks in this code:\n",
    "    spam = 0\n",
    "    if spam == 10:\n",
    "    print('eggs')\n",
    "    if spam > 5:\n",
    "    print('bacon')\n",
    "    else:\n",
    "    print('ham')\n",
    "    print('spam')\n",
    "    print('spam')\n",
    "    \n",
    "# Ans :-"
   ]
  },
  {
   "cell_type": "code",
   "execution_count": 9,
   "id": "d2d81b78",
   "metadata": {},
   "outputs": [
    {
     "name": "stdout",
     "output_type": "stream",
     "text": [
      "ham\n",
      "spam\n",
      "spam\n"
     ]
    }
   ],
   "source": [
    "spam = 0                 # spam = 0 assigned a value\n",
    "if spam == 10:           # spam == 10 operator check and it returns the value as either true or false\n",
    "    print('eggs')\n",
    "if spam > 5:             # spam > 5 spam is greater than 5\n",
    "    print('bacon')\n",
    "else:\n",
    "    print('ham')\n",
    "    print('spam')\n",
    "    print('spam')"
   ]
  },
  {
   "cell_type": "markdown",
   "id": "2e89f3c3",
   "metadata": {},
   "source": [
    "# Q8. Write code that prints Hello if 1 is stored in spam, prints Howdy if 2 is stored in spam, and prints Greetings! if anything else is stored in spam.\n",
    "\n",
    "# Ans :-"
   ]
  },
  {
   "cell_type": "code",
   "execution_count": 18,
   "id": "9c7ff160",
   "metadata": {},
   "outputs": [
    {
     "name": "stdout",
     "output_type": "stream",
     "text": [
      "2\n",
      "Howdy\n"
     ]
    }
   ],
   "source": [
    "spam = int(input())\n",
    "\n",
    "if spam == 1:\n",
    "    print('Hello')\n",
    "elif spam == 2:\n",
    "    print('Howdy')\n",
    "else:\n",
    "    print('Greetings!')"
   ]
  },
  {
   "cell_type": "markdown",
   "id": "0201b332",
   "metadata": {},
   "source": [
    "# Q9. If your programme is stuck in an endless loop, what keys you’ll press?\n",
    "\n",
    "# Ans :-\n",
    "\n",
    "    An infinite loop is a loop that runs indefinitely and it only stops with external intervention or when a      break statement is found. You can stop an infinite loop with stop button shown in running."
   ]
  },
  {
   "cell_type": "markdown",
   "id": "0bb6f0ec",
   "metadata": {},
   "source": [
    "# Q10. How can you tell the difference between break and continue?\n",
    "\n",
    "# Ans :-\n",
    "\n",
    "    Break is used to stop the program which is in continuation loop. Where as continue command is used to continue the program after the error is occured, the continue does not stop the continuation of loop and it stops the current.\n",
    "    Break command is used to break the code in between the for loop or if else statement. In continue command is used in for loop or in if else statement whether the error is occured in loop. "
   ]
  },
  {
   "cell_type": "markdown",
   "id": "6f71c557",
   "metadata": {},
   "source": [
    "# Q11. In a for loop, what is the difference between range(10), range(0, 10), and range(0, 10, 1)?\n",
    "\n",
    "# Ans :-\n",
    "\n",
    "    The only difference between this range(10), range(0,10), range(0,10,1) is the output which is got by the range is same but in third range it is very clear that range starts from 0 concatinate by 1 till range 10 as shown below"
   ]
  },
  {
   "cell_type": "code",
   "execution_count": 24,
   "id": "0895ffb3",
   "metadata": {},
   "outputs": [
    {
     "name": "stdout",
     "output_type": "stream",
     "text": [
      "0\n",
      "1\n",
      "2\n",
      "3\n",
      "4\n",
      "5\n",
      "6\n",
      "7\n",
      "8\n",
      "9\n"
     ]
    }
   ],
   "source": [
    "for i in range(10):\n",
    "    print(i)"
   ]
  },
  {
   "cell_type": "code",
   "execution_count": 26,
   "id": "3f1068e0",
   "metadata": {},
   "outputs": [
    {
     "name": "stdout",
     "output_type": "stream",
     "text": [
      "0\n",
      "1\n",
      "2\n",
      "3\n",
      "4\n",
      "5\n",
      "6\n",
      "7\n",
      "8\n",
      "9\n"
     ]
    }
   ],
   "source": [
    "for i in range(0,10):\n",
    "    print(i)"
   ]
  },
  {
   "cell_type": "code",
   "execution_count": 27,
   "id": "53e892db",
   "metadata": {},
   "outputs": [
    {
     "name": "stdout",
     "output_type": "stream",
     "text": [
      "0\n",
      "1\n",
      "2\n",
      "3\n",
      "4\n",
      "5\n",
      "6\n",
      "7\n",
      "8\n",
      "9\n"
     ]
    }
   ],
   "source": [
    "for i in range(0,10,1):\n",
    "    print(i)"
   ]
  },
  {
   "cell_type": "markdown",
   "id": "7cdf4e36",
   "metadata": {},
   "source": [
    "# Q12. Write a short program that prints the numbers 1 to 10 using a for loop. Then write an equivalent program that prints the numbers 1 to 10 using a while loop.\n",
    "\n",
    "# Ans :-"
   ]
  },
  {
   "cell_type": "code",
   "execution_count": 28,
   "id": "7f5a005a",
   "metadata": {},
   "outputs": [
    {
     "name": "stdout",
     "output_type": "stream",
     "text": [
      "1\n",
      "2\n",
      "3\n",
      "4\n",
      "5\n",
      "6\n",
      "7\n",
      "8\n",
      "9\n",
      "10\n"
     ]
    }
   ],
   "source": [
    "for i in range(1,11):\n",
    "    print(i)"
   ]
  },
  {
   "cell_type": "code",
   "execution_count": 30,
   "id": "ccd285ee",
   "metadata": {},
   "outputs": [
    {
     "name": "stdout",
     "output_type": "stream",
     "text": [
      "1\n",
      "2\n",
      "3\n",
      "4\n",
      "5\n",
      "6\n",
      "7\n",
      "8\n",
      "9\n",
      "10\n"
     ]
    }
   ],
   "source": [
    "i = 1\n",
    "while (i<=10):\n",
    "    print(i)\n",
    "    i += 1\n",
    "    "
   ]
  },
  {
   "cell_type": "markdown",
   "id": "3ab2e489",
   "metadata": {},
   "source": [
    "# Q13. If you had a function named bacon() inside a module named spam, how would you call it after importing spam?\n",
    "\n",
    "# Ans :-\n",
    "\n",
    "    from spam import bacon \n",
    "    From this i will be able to import bacon() from the module spam "
   ]
  },
  {
   "cell_type": "code",
   "execution_count": null,
   "id": "1b4cc7e4",
   "metadata": {},
   "outputs": [],
   "source": []
  }
 ],
 "metadata": {
  "kernelspec": {
   "display_name": "Python 3 (ipykernel)",
   "language": "python",
   "name": "python3"
  },
  "language_info": {
   "codemirror_mode": {
    "name": "ipython",
    "version": 3
   },
   "file_extension": ".py",
   "mimetype": "text/x-python",
   "name": "python",
   "nbconvert_exporter": "python",
   "pygments_lexer": "ipython3",
   "version": "3.9.7"
  },
  "varInspector": {
   "cols": {
    "lenName": 16,
    "lenType": 16,
    "lenVar": 40
   },
   "kernels_config": {
    "python": {
     "delete_cmd_postfix": "",
     "delete_cmd_prefix": "del ",
     "library": "var_list.py",
     "varRefreshCmd": "print(var_dic_list())"
    },
    "r": {
     "delete_cmd_postfix": ") ",
     "delete_cmd_prefix": "rm(",
     "library": "var_list.r",
     "varRefreshCmd": "cat(var_dic_list()) "
    }
   },
   "types_to_exclude": [
    "module",
    "function",
    "builtin_function_or_method",
    "instance",
    "_Feature"
   ],
   "window_display": false
  }
 },
 "nbformat": 4,
 "nbformat_minor": 5
}
