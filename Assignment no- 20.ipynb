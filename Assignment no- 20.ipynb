{
 "cells": [
  {
   "attachments": {},
   "cell_type": "markdown",
   "id": "5119e8ed",
   "metadata": {},
   "source": [
    "# Q1. Set the variable test1 to the string 'This is a test of the emergency text system,' and save test1 to a file named test.txt.\n",
    "# Ans :-"
   ]
  },
  {
   "cell_type": "code",
   "execution_count": 3,
   "id": "03a31d3a",
   "metadata": {},
   "outputs": [
    {
     "data": {
      "text/plain": [
       "44"
      ]
     },
     "execution_count": 3,
     "metadata": {},
     "output_type": "execute_result"
    }
   ],
   "source": [
    "test1 = 'This is a test of the emergency text system,'\n",
    "filee = open('test.txt','w')\n",
    "filee.write(test1)"
   ]
  },
  {
   "cell_type": "markdown",
   "id": "55976b82",
   "metadata": {},
   "source": [
    "# Q2. Read the contents of the file test.txt into the variable test2. Is there a difference between test 1 and test 2?\n",
    "# Ans :- "
   ]
  },
  {
   "cell_type": "code",
   "execution_count": 4,
   "id": "514cec88",
   "metadata": {},
   "outputs": [
    {
     "data": {
      "text/plain": [
       "'This is a test of the emergency text system,'"
      ]
     },
     "execution_count": 4,
     "metadata": {},
     "output_type": "execute_result"
    }
   ],
   "source": [
    "file2 = open('test.txt','r')\n",
    "test2 = file2.readline()\n",
    "test2"
   ]
  },
  {
   "cell_type": "code",
   "execution_count": 5,
   "id": "111472a2",
   "metadata": {},
   "outputs": [
    {
     "name": "stdout",
     "output_type": "stream",
     "text": [
      "Both are same\n"
     ]
    }
   ],
   "source": [
    "if test1==test2:\n",
    "    print('Both are same')\n"
   ]
  },
  {
   "cell_type": "markdown",
   "id": "a9467380",
   "metadata": {},
   "source": [
    "# Q3. Create a CSV file called books.csv by using these lines:\n",
    "title,author,year\n",
    "The Weirdstone of Brisingamen,Alan Garner,1960\n",
    "Perdido Street Station,China Miéville,2000\n",
    "Thud!,Terry Pratchett,2005\n",
    "The Spellman Files,Lisa Lutz,2007\n",
    "Small Gods,Terry Pratchett,1992\n",
    "\n",
    "# Ans :- "
   ]
  },
  {
   "cell_type": "code",
   "execution_count": 7,
   "id": "ada8060f",
   "metadata": {},
   "outputs": [],
   "source": [
    "import csv\n",
    "rows =[ ['title','author','year'],\n",
    "    ['The Weirdstone of Brisingamen','Alan Garner',1960],\n",
    "    ['Perdido Street Station','China Miéville',2000],\n",
    "    ['Thud!','Terry Pratchett',2005],\n",
    "    ['The Spellman Files','Lisa Lutz',2007],\n",
    "    ['Small Gods','Terry Pratchett',1992]]\n",
    "with open('books.csv','w',newline='') as file:\n",
    "    writer = csv.writer(file)\n",
    "    writer.writerows(rows)"
   ]
  },
  {
   "attachments": {},
   "cell_type": "markdown",
   "id": "2091a602",
   "metadata": {},
   "source": [
    "# Q4. Use the sqlite3 module to create a SQLite database called books.db, and a table called books with these fields: title (text), author (text), and year (integer).\n",
    "# Ans :-"
   ]
  },
  {
   "cell_type": "code",
   "execution_count": 8,
   "id": "fdb6e4bc",
   "metadata": {},
   "outputs": [],
   "source": [
    "import sqlite3\n",
    "conn = sqlite3.connect('books.db')\n",
    "c = conn.cursor()\n",
    "\n",
    "c.execute('create table books(title varchar(20),author varchar(20), year int)')\n",
    "conn.commit()"
   ]
  },
  {
   "cell_type": "markdown",
   "id": "b10b785a",
   "metadata": {},
   "source": [
    "# Q5. Read books.csv and insert its data into the book table.\n",
    "# Ans :-"
   ]
  },
  {
   "cell_type": "code",
   "execution_count": 9,
   "id": "f294ff83",
   "metadata": {},
   "outputs": [],
   "source": [
    "import pandas as pd\n",
    "\n",
    "read_books = pd.read_csv('books.csv',encoding='unicode_escape')\n",
    "read_books.to_sql('books', conn, if_exists='append', index = False)\n"
   ]
  },
  {
   "cell_type": "markdown",
   "id": "671bd4f4",
   "metadata": {},
   "source": [
    "# Q6. Select and print the title column from the book table in alphabetical order.\n",
    "# Ans :-"
   ]
  },
  {
   "cell_type": "code",
   "execution_count": 10,
   "id": "556fad14",
   "metadata": {},
   "outputs": [
    {
     "name": "stdout",
     "output_type": "stream",
     "text": [
      "[('Perdido Street Station',), ('Small Gods',), ('The Spellman Files',), ('The Weirdstone of Brisingamen',), ('Thud!',)]\n"
     ]
    }
   ],
   "source": [
    "c.execute('select title from books order by title asc')\n",
    "print(c.fetchall())\n"
   ]
  },
  {
   "cell_type": "markdown",
   "id": "d86a2460",
   "metadata": {},
   "source": [
    "# Q7. From the book table, select and print all columns in the order of publication.\n",
    "# Ans :- "
   ]
  },
  {
   "cell_type": "code",
   "execution_count": 11,
   "id": "a1c78d4a",
   "metadata": {},
   "outputs": [
    {
     "data": {
      "text/html": [
       "<div>\n",
       "<style scoped>\n",
       "    .dataframe tbody tr th:only-of-type {\n",
       "        vertical-align: middle;\n",
       "    }\n",
       "\n",
       "    .dataframe tbody tr th {\n",
       "        vertical-align: top;\n",
       "    }\n",
       "\n",
       "    .dataframe thead th {\n",
       "        text-align: right;\n",
       "    }\n",
       "</style>\n",
       "<table border=\"1\" class=\"dataframe\">\n",
       "  <thead>\n",
       "    <tr style=\"text-align: right;\">\n",
       "      <th></th>\n",
       "      <th>title</th>\n",
       "      <th>author</th>\n",
       "      <th>year</th>\n",
       "    </tr>\n",
       "  </thead>\n",
       "  <tbody>\n",
       "    <tr>\n",
       "      <th>0</th>\n",
       "      <td>The Weirdstone of Brisingamen</td>\n",
       "      <td>Alan Garner</td>\n",
       "      <td>1960</td>\n",
       "    </tr>\n",
       "    <tr>\n",
       "      <th>1</th>\n",
       "      <td>Small Gods</td>\n",
       "      <td>Terry Pratchett</td>\n",
       "      <td>1992</td>\n",
       "    </tr>\n",
       "    <tr>\n",
       "      <th>2</th>\n",
       "      <td>Perdido Street Station</td>\n",
       "      <td>China MiÃ©ville</td>\n",
       "      <td>2000</td>\n",
       "    </tr>\n",
       "    <tr>\n",
       "      <th>3</th>\n",
       "      <td>Thud!</td>\n",
       "      <td>Terry Pratchett</td>\n",
       "      <td>2005</td>\n",
       "    </tr>\n",
       "    <tr>\n",
       "      <th>4</th>\n",
       "      <td>The Spellman Files</td>\n",
       "      <td>Lisa Lutz</td>\n",
       "      <td>2007</td>\n",
       "    </tr>\n",
       "  </tbody>\n",
       "</table>\n",
       "</div>"
      ],
      "text/plain": [
       "                           title           author  year\n",
       "0  The Weirdstone of Brisingamen      Alan Garner  1960\n",
       "1                     Small Gods  Terry Pratchett  1992\n",
       "2         Perdido Street Station  China MiÃ©ville  2000\n",
       "3                          Thud!  Terry Pratchett  2005\n",
       "4             The Spellman Files        Lisa Lutz  2007"
      ]
     },
     "execution_count": 11,
     "metadata": {},
     "output_type": "execute_result"
    }
   ],
   "source": [
    "c.execute('select title, author,year from books order by year')\n",
    "\n",
    "\n",
    "df = pd.DataFrame(c.fetchall(), columns=['title','author','year'])\n",
    "df\n"
   ]
  },
  {
   "cell_type": "markdown",
   "id": "1a3c6127",
   "metadata": {},
   "source": [
    "# Q8. Use the sqlalchemy module to connect to the sqlite3 database books.db that you just made in exercise 6.\n",
    "# Ans :- "
   ]
  },
  {
   "cell_type": "code",
   "execution_count": 12,
   "id": "4b83ea1f",
   "metadata": {},
   "outputs": [
    {
     "name": "stdout",
     "output_type": "stream",
     "text": [
      "('The Weirdstone of Brisingamen', 'Alan Garner', 1960)\n",
      "('Perdido Street Station', 'China MiÃ©ville', 2000)\n",
      "('Thud!', 'Terry Pratchett', 2005)\n",
      "('The Spellman Files', 'Lisa Lutz', 2007)\n",
      "('Small Gods', 'Terry Pratchett', 1992)\n"
     ]
    }
   ],
   "source": [
    "import sqlalchemy\n",
    "engine = sqlalchemy.create_engine(\"sqlite:///books.db\")\n",
    "rows = engine.execute('select * from books')\n",
    "for i in rows:\n",
    "    print(i)\n"
   ]
  },
  {
   "cell_type": "markdown",
   "id": "addcafc0",
   "metadata": {},
   "source": [
    "# Q9. Install the Redis server and the Python redis library (pip install redis) on your computer. Create a Redis hash called test with the fields count (1) and name ('Fester Bestertester'). Print all the fields for test.\n",
    "# Ans :- "
   ]
  },
  {
   "cell_type": "code",
   "execution_count": 13,
   "id": "2adb2b66",
   "metadata": {},
   "outputs": [
    {
     "name": "stdout",
     "output_type": "stream",
     "text": [
      "Collecting redis\n",
      "  Downloading redis-4.5.5-py3-none-any.whl (240 kB)\n",
      "\u001b[K     |████████████████████████████████| 240 kB 254 kB/s eta 0:00:01\n",
      "\u001b[?25hCollecting async-timeout>=4.0.2\n",
      "  Downloading async_timeout-4.0.2-py3-none-any.whl (5.8 kB)\n",
      "Installing collected packages: async-timeout, redis\n",
      "Successfully installed async-timeout-4.0.2 redis-4.5.5\n"
     ]
    }
   ],
   "source": [
    "!pip install redis"
   ]
  },
  {
   "cell_type": "code",
   "execution_count": null,
   "id": "30330af9",
   "metadata": {},
   "outputs": [],
   "source": [
    "import redis\n",
    "conn = redis.Redis()\n",
    "conn.delete('test')\n",
    "conn.hmset('test', {'count': 1, 'name': 'Fester Bestertester'})\n",
    "conn.hgetall('test')\n"
   ]
  },
  {
   "cell_type": "markdown",
   "id": "c0cd4063",
   "metadata": {},
   "source": [
    "# Q10. Increment the count field of test and print it.\n",
    "# Ans :- "
   ]
  },
  {
   "cell_type": "code",
   "execution_count": null,
   "id": "bb6f0292",
   "metadata": {},
   "outputs": [],
   "source": [
    "conn.hincrby('test','count', 3)"
   ]
  }
 ],
 "metadata": {
  "kernelspec": {
   "display_name": "Python 3 (ipykernel)",
   "language": "python",
   "name": "python3"
  },
  "language_info": {
   "codemirror_mode": {
    "name": "ipython",
    "version": 3
   },
   "file_extension": ".py",
   "mimetype": "text/x-python",
   "name": "python",
   "nbconvert_exporter": "python",
   "pygments_lexer": "ipython3",
   "version": "3.9.7"
  },
  "varInspector": {
   "cols": {
    "lenName": 16,
    "lenType": 16,
    "lenVar": 40
   },
   "kernels_config": {
    "python": {
     "delete_cmd_postfix": "",
     "delete_cmd_prefix": "del ",
     "library": "var_list.py",
     "varRefreshCmd": "print(var_dic_list())"
    },
    "r": {
     "delete_cmd_postfix": ") ",
     "delete_cmd_prefix": "rm(",
     "library": "var_list.r",
     "varRefreshCmd": "cat(var_dic_list()) "
    }
   },
   "types_to_exclude": [
    "module",
    "function",
    "builtin_function_or_method",
    "instance",
    "_Feature"
   ],
   "window_display": false
  }
 },
 "nbformat": 4,
 "nbformat_minor": 5
}
