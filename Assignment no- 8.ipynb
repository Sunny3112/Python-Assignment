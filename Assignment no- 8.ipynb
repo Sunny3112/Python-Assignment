{
 "cells": [
  {
   "cell_type": "markdown",
   "id": "766e52c9",
   "metadata": {},
   "source": [
    "# Q1. Is the Python Standard Library included with PyInputPlus?\n",
    "# Ans :-\n",
    "\n",
    "    PyInputPlus is not a part of the Python Standard Library, we must install it separately using Pip."
   ]
  },
  {
   "cell_type": "markdown",
   "id": "65f6a7f4",
   "metadata": {},
   "source": [
    "# Q2. Why is PyInputPlus commonly imported with import pyinputplus as pypi?\n",
    "# Ans :-\n",
    "    \n",
    "    You can import the module with import pyinputplus as pyip so that you can enter a shorter name when calling the module's functions."
   ]
  },
  {
   "cell_type": "markdown",
   "id": "5cc36272",
   "metadata": {},
   "source": [
    "# Q3. How do you distinguish between inputInt() and inputFloat()?\n",
    "# Ans :- \n",
    "\n",
    "    The inputint() function returns an integer ,\n",
    "    While the inputfloat() returns a number contain a decimal value."
   ]
  },
  {
   "cell_type": "markdown",
   "id": "4e996e74",
   "metadata": {},
   "source": [
    "# Q4. Using PyInputPlus, how do you ensure that the user enters a whole number between 0 and 99?\n",
    "# Ans :-\n",
    "\n",
    "    By using pyip.inputint(min=0, max=99).\n"
   ]
  },
  {
   "cell_type": "markdown",
   "id": "1f4236a9",
   "metadata": {},
   "source": [
    "# Q5. What is transferred to the keyword arguments allowRegexes and blockRegexes?\n",
    "# Ans :-\n",
    "\n",
    "    A list of regex strings that are either explicitly allowed or denied."
   ]
  },
  {
   "cell_type": "markdown",
   "id": "3fd55897",
   "metadata": {},
   "source": [
    "# Q6. If a blank input is entered three times, what does inputStr(limit=3) do?\n",
    "# Ans :-\n",
    "\n",
    "    The function will raise RetryLimitException.\n"
   ]
  },
  {
   "cell_type": "markdown",
   "id": "f3cbf535",
   "metadata": {},
   "source": [
    "# Q7. If blank input is entered three times, what does inputStr(limit=3, default='hello') do?\n",
    "# Ans :- \n",
    "\n",
    "    The function returns the value 'hello'.\n"
   ]
  },
  {
   "cell_type": "code",
   "execution_count": null,
   "id": "3346f471",
   "metadata": {},
   "outputs": [],
   "source": []
  }
 ],
 "metadata": {
  "kernelspec": {
   "display_name": "Python 3 (ipykernel)",
   "language": "python",
   "name": "python3"
  },
  "language_info": {
   "codemirror_mode": {
    "name": "ipython",
    "version": 3
   },
   "file_extension": ".py",
   "mimetype": "text/x-python",
   "name": "python",
   "nbconvert_exporter": "python",
   "pygments_lexer": "ipython3",
   "version": "3.9.7"
  },
  "varInspector": {
   "cols": {
    "lenName": 16,
    "lenType": 16,
    "lenVar": 40
   },
   "kernels_config": {
    "python": {
     "delete_cmd_postfix": "",
     "delete_cmd_prefix": "del ",
     "library": "var_list.py",
     "varRefreshCmd": "print(var_dic_list())"
    },
    "r": {
     "delete_cmd_postfix": ") ",
     "delete_cmd_prefix": "rm(",
     "library": "var_list.r",
     "varRefreshCmd": "cat(var_dic_list()) "
    }
   },
   "types_to_exclude": [
    "module",
    "function",
    "builtin_function_or_method",
    "instance",
    "_Feature"
   ],
   "window_display": false
  }
 },
 "nbformat": 4,
 "nbformat_minor": 5
}
