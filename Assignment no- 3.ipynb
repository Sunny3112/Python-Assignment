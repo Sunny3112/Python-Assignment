{
 "cells": [
  {
   "cell_type": "markdown",
   "id": "5ed03f99",
   "metadata": {},
   "source": [
    "# Q1. Why are functions advantageous to have in your programs?\n",
    "\n",
    "# Ans :-\n",
    "\n",
    "    An advantage of using a functions is that coding time is reduced. If you only have to write a routine one  time and code statements that call it, you save time of coding the same using multiple times, even if you   opt to cut and paste the routine. "
   ]
  },
  {
   "cell_type": "markdown",
   "id": "100710da",
   "metadata": {},
   "source": [
    "# Q2. When does the code in a function run: when it's specified or when it's called?\n",
    "\n",
    "# Ans :- \n",
    "\n",
    "    When a function is called the program control jumps to that function definition and executes the statements inside the function body. After executing the body of the function, the   program control jumps back to the   part of the program which  called the function, and resumes execution at that point."
   ]
  },
  {
   "cell_type": "markdown",
   "id": "1368756f",
   "metadata": {},
   "source": [
    "# Q3. What statement creates a function?\n",
    "\n",
    "# Ans :-\n",
    "\n",
    "    We start creating a function by using keyword as \"def\", specify a name followed by colon (:).\n",
    "    eg :-\n",
    "    def test():\n",
    "    "
   ]
  },
  {
   "cell_type": "markdown",
   "id": "d85b58ba",
   "metadata": {},
   "source": [
    "# Q4. What is the difference between a function and a function call?\n",
    "\n",
    "# Ans :-\n",
    "\n",
    "    A function is a block of code that does a particular operation and returns a result. It usually accepts    inputs as parameters  and returns a result. The parameters are not mandatory.\n",
    "\n",
    "    E.g:\n",
    "    Function add(a,b)\n",
    "    return a + b\n",
    "\n",
    "    A function call is the code used to pass control to a function.\n",
    "\n",
    "    E.g.:\n",
    "\n",
    "    c = add(9,9)\n",
    "\n",
    "    Now b will have the value 19.\n"
   ]
  },
  {
   "cell_type": "markdown",
   "id": "9a48eeaf",
   "metadata": {},
   "source": [
    "# Q5. How many global scopes are there in a Python program? How many local scopes?\n",
    "\n",
    "# Ans :- \n",
    "\n",
    "    There are two types of variables.\n",
    "    1 = Global variables\n",
    "    2 = Local variables\n",
    "    \n",
    "    The scope of Global variables is the entire program whereas the scope of local variable is limited to the  function where it is defined."
   ]
  },
  {
   "cell_type": "code",
   "execution_count": 7,
   "id": "e01d86d4",
   "metadata": {},
   "outputs": [
    {
     "name": "stdout",
     "output_type": "stream",
     "text": [
      "Sunny\n",
      "Python\n"
     ]
    },
    {
     "ename": "NameError",
     "evalue": "name 'x' is not defined",
     "output_type": "error",
     "traceback": [
      "\u001b[0;31m---------------------------------------------------------------------------\u001b[0m",
      "\u001b[0;31mNameError\u001b[0m                                 Traceback (most recent call last)",
      "\u001b[0;32m/var/folders/xn/h2374fms1gv8xwtps_vftzwh0000gn/T/ipykernel_38567/2396354318.py\u001b[0m in \u001b[0;36m<module>\u001b[0;34m\u001b[0m\n\u001b[1;32m      7\u001b[0m \u001b[0;34m\u001b[0m\u001b[0m\n\u001b[1;32m      8\u001b[0m \u001b[0mtest\u001b[0m\u001b[0;34m(\u001b[0m\u001b[0;34m)\u001b[0m\u001b[0;34m\u001b[0m\u001b[0;34m\u001b[0m\u001b[0m\n\u001b[0;32m----> 9\u001b[0;31m \u001b[0mprint\u001b[0m\u001b[0;34m(\u001b[0m\u001b[0mx\u001b[0m\u001b[0;34m)\u001b[0m\u001b[0;34m\u001b[0m\u001b[0;34m\u001b[0m\u001b[0m\n\u001b[0m",
      "\u001b[0;31mNameError\u001b[0m: name 'x' is not defined"
     ]
    }
   ],
   "source": [
    "def test():\n",
    "    x = \"Python\"\n",
    "    print(x)\n",
    "\n",
    "a = \"Sunny\"\n",
    "print(a) \n",
    "\n",
    "test()\n",
    "print(x)"
   ]
  },
  {
   "cell_type": "markdown",
   "id": "95cb1b52",
   "metadata": {},
   "source": [
    "    In above program (x) is a local variable whereas (a) is a global variable, we can access the local variable only within the function it is defined (test() above) and trying to call local variable outside its scope  (test()) will through an error. However, we can call global variable anywhere in the program including     functions (test()) defined in the program."
   ]
  },
  {
   "cell_type": "markdown",
   "id": "454f8d5e",
   "metadata": {},
   "source": [
    "# Q6. What happens to variables in a local scope when the function call returns?\n",
    "\n",
    "# Ans :-\n",
    "\n",
    "    Local variables can only be reached within their scope(like(test()above).\n"
   ]
  },
  {
   "cell_type": "code",
   "execution_count": 13,
   "id": "e645f0d1",
   "metadata": {},
   "outputs": [],
   "source": [
    "#eg :-\n",
    "def test(x,y):\n",
    "    test = x + y\n",
    "    return test"
   ]
  },
  {
   "cell_type": "code",
   "execution_count": 14,
   "id": "8fd93f27",
   "metadata": {},
   "outputs": [
    {
     "data": {
      "text/plain": [
       "18"
      ]
     },
     "execution_count": 14,
     "metadata": {},
     "output_type": "execute_result"
    }
   ],
   "source": [
    "test(9,9)"
   ]
  },
  {
   "cell_type": "markdown",
   "id": "00aa67e0",
   "metadata": {},
   "source": [
    "    The variable x and y will only work/used inside the function test() and they dont exist outside of the     function. So trying to use local variable outside their scope, might through Nameerror."
   ]
  },
  {
   "cell_type": "markdown",
   "id": "3464cd27",
   "metadata": {},
   "source": [
    "# Q7. What is the concept of a return value? Is it possible to have a return value in an expression?\n",
    "\n",
    "# Ans 1 :- \n",
    "\n",
    "    A return is a value that function returns to the calling script or function when it complete its task.\n",
    "    A return value can be any 1 of 4 values types.\n",
    "    i.e :- handle, integer, object, string. it is only depends upon the operation it performs.\n",
    "    \n",
    "# Ans 2 :-\n",
    "    \n",
    "    A return statement is used to end the execution of the function call and returns the ouput to the caller."
   ]
  },
  {
   "cell_type": "markdown",
   "id": "04948d79",
   "metadata": {},
   "source": [
    "# Q8. If a function does not have a return statement, what is the return value of a call to that function?\n",
    "\n",
    "# Ans :- \n",
    "\n",
    "    If the return statement is without any expression, then the special value None type is returned."
   ]
  },
  {
   "cell_type": "markdown",
   "id": "f9966e1f",
   "metadata": {},
   "source": [
    "# Q9. How do you make a function variable refer to the global variable?\n",
    "\n",
    "# Ans :-\n",
    "\n",
    "    Normally when we create a function variable, that variable is   local and can only be used inside that function itself.\n",
    "    But to create local variable as global we need to use a keyword called as \"global\" ."
   ]
  },
  {
   "cell_type": "code",
   "execution_count": 15,
   "id": "9541eccf",
   "metadata": {},
   "outputs": [
    {
     "name": "stdout",
     "output_type": "stream",
     "text": [
      "18\n"
     ]
    }
   ],
   "source": [
    "#eg :-\n",
    "def test():\n",
    "    global x\n",
    "    x = 9 \n",
    "    \n",
    "    \n",
    "test()\n",
    "print(9+x)"
   ]
  },
  {
   "cell_type": "markdown",
   "id": "f8e65267",
   "metadata": {},
   "source": [
    "# Q10. What is the data type of None?\n",
    "\n",
    "# Ans :-\n",
    "\n",
    "    The data type of None is called as its own \"NoneType\""
   ]
  },
  {
   "cell_type": "markdown",
   "id": "9edfa8f7",
   "metadata": {},
   "source": [
    "# Q11. What does the sentence import areallyourpetsnamederic do?\n",
    "\n",
    "# Ans :-\n",
    "\n",
    "    That import statement imports a module named as                  areallyourpetsnamederic."
   ]
  },
  {
   "cell_type": "markdown",
   "id": "45047f3d",
   "metadata": {},
   "source": [
    "# Q12. If you had a bacon() feature in a spam module, what would you call it after importing spam?\n",
    "\n",
    "# Ans :-\n",
    "\n",
    "    from spam import bacon \n",
    "    this question is repeated from the assignment no -2 last        question. "
   ]
  },
  {
   "cell_type": "markdown",
   "id": "a1464198",
   "metadata": {},
   "source": [
    "# Q13. What can you do to save a programme from crashing if it encounters an error?\n",
    "\n",
    "# Ans :- \n",
    "\n",
    "    When it encounters an error, the control is passed to the       except block, skipping the code in between. We have to move our code inside a try and except statement. Try running the program and it should throw an error message instead of crashing the         program."
   ]
  },
  {
   "cell_type": "markdown",
   "id": "53ca061e",
   "metadata": {},
   "source": [
    "# Q14. What is the purpose of the try clause? What is the purpose of the except clause?\n",
    "\n",
    "# Ans 1 :-\n",
    "\n",
    "    The purpose behind running the try clause is that if there is   any error occured in program it should thorugh a error message instead of crashing the whole program.\n",
    "    \n",
    "# Ans 2 :-\n",
    "\n",
    "    Except clause lets us handle the error."
   ]
  },
  {
   "cell_type": "code",
   "execution_count": null,
   "id": "ed733a06",
   "metadata": {},
   "outputs": [],
   "source": []
  }
 ],
 "metadata": {
  "kernelspec": {
   "display_name": "Python 3 (ipykernel)",
   "language": "python",
   "name": "python3"
  },
  "language_info": {
   "codemirror_mode": {
    "name": "ipython",
    "version": 3
   },
   "file_extension": ".py",
   "mimetype": "text/x-python",
   "name": "python",
   "nbconvert_exporter": "python",
   "pygments_lexer": "ipython3",
   "version": "3.9.7"
  },
  "varInspector": {
   "cols": {
    "lenName": 16,
    "lenType": 16,
    "lenVar": 40
   },
   "kernels_config": {
    "python": {
     "delete_cmd_postfix": "",
     "delete_cmd_prefix": "del ",
     "library": "var_list.py",
     "varRefreshCmd": "print(var_dic_list())"
    },
    "r": {
     "delete_cmd_postfix": ") ",
     "delete_cmd_prefix": "rm(",
     "library": "var_list.r",
     "varRefreshCmd": "cat(var_dic_list()) "
    }
   },
   "types_to_exclude": [
    "module",
    "function",
    "builtin_function_or_method",
    "instance",
    "_Feature"
   ],
   "window_display": false
  }
 },
 "nbformat": 4,
 "nbformat_minor": 5
}
