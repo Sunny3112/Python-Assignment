{
 "cells": [
  {
   "cell_type": "markdown",
   "id": "05acb148",
   "metadata": {},
   "source": [
    "# Q1. What does RGBA stand for?\n",
    "# Ans :- "
   ]
  },
  {
   "cell_type": "markdown",
   "id": "deef5023",
   "metadata": {},
   "source": [
    "RGBA stands for red, green, blue, and alpha (transparency) in the color\n",
    "An RGBA value is a tuple of 4 integers, each ranging from 0 to 255. The four integers correspond\n",
    "to the amount of red, green, blue, and alpha (transparency) in the color"
   ]
  },
  {
   "cell_type": "markdown",
   "id": "e14ec086",
   "metadata": {},
   "source": [
    "# Q2. From the Pillow module, how do you get the RGBA value of any images?\n",
    "# Ans :- "
   ]
  },
  {
   "cell_type": "code",
   "execution_count": 1,
   "id": "f17e68b5",
   "metadata": {},
   "outputs": [
    {
     "data": {
      "text/plain": [
       "(255, 0, 0, 255)"
      ]
     },
     "execution_count": 1,
     "metadata": {},
     "output_type": "execute_result"
    }
   ],
   "source": [
    "from PIL import ImageColor\n",
    "ImageColor.getcolor('green', 'RGBA')\n",
    "ImageColor.getcolor('red', 'RGBA')"
   ]
  },
  {
   "cell_type": "markdown",
   "id": "bdaaeb8f",
   "metadata": {},
   "source": [
    "# Q3. What is a box tuple, and how does it work?\n",
    "# Ans :- "
   ]
  },
  {
   "cell_type": "markdown",
   "id": "58d4eecf",
   "metadata": {},
   "source": [
    "A box tuple is a tuple value of four integers: the left edge x-coordinate, the top edge y-coordinate, the width, and the height, respectively\n"
   ]
  },
  {
   "cell_type": "markdown",
   "id": "202bd90c",
   "metadata": {},
   "source": [
    "# Q4. What method would you call to get Image object for a 100×100 image, excluding the lower-left quarter of it?\n",
    "# Ans :- "
   ]
  },
  {
   "cell_type": "markdown",
   "id": "6257e549",
   "metadata": {},
   "source": [
    "ImageObject.crop((0, 50, 50, 50))\n"
   ]
  },
  {
   "cell_type": "markdown",
   "id": "ef9c97d4",
   "metadata": {},
   "source": [
    "# Q5. After making changes to an Image object, how could you save it as an image file?\n",
    "# Ans :- "
   ]
  },
  {
   "cell_type": "markdown",
   "id": "9a0725e4",
   "metadata": {},
   "source": [
    "By Calling the imageObj.save('new_filename.png') method of the Image object."
   ]
  },
  {
   "cell_type": "markdown",
   "id": "0c7fde41",
   "metadata": {},
   "source": [
    "# Q6. What module contains Pillow’s shape-drawing code?\n",
    "# Ans :- "
   ]
  },
  {
   "cell_type": "markdown",
   "id": "e99764e4",
   "metadata": {},
   "source": [
    "The ImageDraw module contains code to draw on image"
   ]
  },
  {
   "cell_type": "markdown",
   "id": "a68e1a25",
   "metadata": {},
   "source": [
    "# Q7. Image objects do not have drawing methods. What kind of object does? How do you get this kind of object?\n",
    "# Ans :-"
   ]
  },
  {
   "cell_type": "markdown",
   "id": "37e14708",
   "metadata": {},
   "source": [
    "ImageDraw objects have shape-drawing methods such as point(), line(), or rectangle(). They are returned by passing the Image object to the ImageDraw.Draw() function"
   ]
  },
  {
   "cell_type": "code",
   "execution_count": null,
   "id": "7bfc5e1d",
   "metadata": {},
   "outputs": [],
   "source": []
  }
 ],
 "metadata": {
  "kernelspec": {
   "display_name": "Python 3 (ipykernel)",
   "language": "python",
   "name": "python3"
  },
  "language_info": {
   "codemirror_mode": {
    "name": "ipython",
    "version": 3
   },
   "file_extension": ".py",
   "mimetype": "text/x-python",
   "name": "python",
   "nbconvert_exporter": "python",
   "pygments_lexer": "ipython3",
   "version": "3.9.7"
  },
  "varInspector": {
   "cols": {
    "lenName": 16,
    "lenType": 16,
    "lenVar": 40
   },
   "kernels_config": {
    "python": {
     "delete_cmd_postfix": "",
     "delete_cmd_prefix": "del ",
     "library": "var_list.py",
     "varRefreshCmd": "print(var_dic_list())"
    },
    "r": {
     "delete_cmd_postfix": ") ",
     "delete_cmd_prefix": "rm(",
     "library": "var_list.r",
     "varRefreshCmd": "cat(var_dic_list()) "
    }
   },
   "types_to_exclude": [
    "module",
    "function",
    "builtin_function_or_method",
    "instance",
    "_Feature"
   ],
   "window_display": false
  }
 },
 "nbformat": 4,
 "nbformat_minor": 5
}
